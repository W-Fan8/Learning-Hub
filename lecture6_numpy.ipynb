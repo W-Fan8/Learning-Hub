{
 "cells": [
  {
   "cell_type": "code",
   "execution_count": 18,
   "metadata": {},
   "outputs": [],
   "source": [
    "import numpy as np\n",
    "from IPython.core.interactiveshell import InteractiveShell\n",
    "\n",
    "InteractiveShell.ast_node_interactivity = \"all\""
   ]
  },
  {
   "cell_type": "code",
   "execution_count": 19,
   "metadata": {},
   "outputs": [
    {
     "data": {
      "text/plain": [
       "array([[1, 2, 3],\n",
       "       [4, 5, 6]])"
      ]
     },
     "execution_count": 19,
     "metadata": {},
     "output_type": "execute_result"
    },
    {
     "data": {
      "text/plain": [
       "array([[7, 8, 9]])"
      ]
     },
     "execution_count": 19,
     "metadata": {},
     "output_type": "execute_result"
    },
    {
     "data": {
      "text/plain": [
       "array([[1, 2, 3],\n",
       "       [4, 5, 6],\n",
       "       [7, 8, 9]])"
      ]
     },
     "execution_count": 19,
     "metadata": {},
     "output_type": "execute_result"
    }
   ],
   "source": [
    "# create a 2D array\n",
    "a = np.array([[1, 2, 3], [4, 5, 6]])\n",
    "a\n",
    "b = np.array([[7, 8, 9]])\n",
    "b\n",
    "np.concatenate((a, b), axis=0)"
   ]
  },
  {
   "cell_type": "code",
   "execution_count": 20,
   "metadata": {},
   "outputs": [
    {
     "data": {
      "text/plain": [
       "array([[1, 2, 3, 4],\n",
       "       [5, 6, 7, 8]])"
      ]
     },
     "execution_count": 20,
     "metadata": {},
     "output_type": "execute_result"
    }
   ],
   "source": [
    "a = np.arange(1, 9).reshape(2, 4)\n",
    "a\n",
    "# split a into 3 sub arrays\n",
    "a1, a2, a3 = np.split(a, [3, 5], axis=1)"
   ]
  },
  {
   "cell_type": "code",
   "execution_count": 21,
   "metadata": {},
   "outputs": [
    {
     "data": {
      "text/plain": [
       "array([[1, 2, 3],\n",
       "       [5, 6, 7]])"
      ]
     },
     "execution_count": 21,
     "metadata": {},
     "output_type": "execute_result"
    },
    {
     "data": {
      "text/plain": [
       "array([[4],\n",
       "       [8]])"
      ]
     },
     "execution_count": 21,
     "metadata": {},
     "output_type": "execute_result"
    },
    {
     "data": {
      "text/plain": [
       "array([], shape=(2, 0), dtype=int64)"
      ]
     },
     "execution_count": 21,
     "metadata": {},
     "output_type": "execute_result"
    }
   ],
   "source": [
    "a1\n",
    "a2\n",
    "a3"
   ]
  },
  {
   "cell_type": "code",
   "execution_count": 22,
   "metadata": {},
   "outputs": [
    {
     "data": {
      "text/plain": [
       "array([[1, 2, 3],\n",
       "       [5, 6, 7]])"
      ]
     },
     "execution_count": 22,
     "metadata": {},
     "output_type": "execute_result"
    }
   ],
   "source": [
    "a1"
   ]
  },
  {
   "cell_type": "code",
   "execution_count": 23,
   "metadata": {},
   "outputs": [
    {
     "data": {
      "text/plain": [
       "array([[7, 8, 9]])"
      ]
     },
     "execution_count": 23,
     "metadata": {},
     "output_type": "execute_result"
    },
    {
     "data": {
      "text/plain": [
       "array([[ 8, 10, 12],\n",
       "       [12, 14, 16]])"
      ]
     },
     "execution_count": 23,
     "metadata": {},
     "output_type": "execute_result"
    }
   ],
   "source": [
    "a2 = np.array([[7, 8, 9]])\n",
    "a2\n",
    "\n",
    "# broadcast 1st dimension a2 to match the shape of a1\n",
    "a1 + a2"
   ]
  },
  {
   "cell_type": "code",
   "execution_count": 24,
   "metadata": {},
   "outputs": [
    {
     "data": {
      "text/plain": [
       "(2, 3)"
      ]
     },
     "execution_count": 24,
     "metadata": {},
     "output_type": "execute_result"
    },
    {
     "data": {
      "text/plain": [
       "array([[1, 2, 3],\n",
       "       [5, 6, 7]])"
      ]
     },
     "execution_count": 24,
     "metadata": {},
     "output_type": "execute_result"
    }
   ],
   "source": [
    "a1.shape\n",
    "a1"
   ]
  },
  {
   "cell_type": "code",
   "execution_count": 25,
   "metadata": {},
   "outputs": [
    {
     "data": {
      "text/plain": [
       "array([[7, 8, 9]])"
      ]
     },
     "execution_count": 25,
     "metadata": {},
     "output_type": "execute_result"
    },
    {
     "data": {
      "text/plain": [
       "(1, 3)"
      ]
     },
     "execution_count": 25,
     "metadata": {},
     "output_type": "execute_result"
    }
   ],
   "source": [
    "a2\n",
    "a2.shape"
   ]
  },
  {
   "cell_type": "code",
   "execution_count": 26,
   "metadata": {},
   "outputs": [
    {
     "data": {
      "text/plain": [
       "array([[ 8, 10, 12],\n",
       "       [12, 14, 16]])"
      ]
     },
     "execution_count": 26,
     "metadata": {},
     "output_type": "execute_result"
    }
   ],
   "source": [
    "# broadcast 2nd dimension\n",
    "a1 + a2"
   ]
  },
  {
   "cell_type": "code",
   "execution_count": 27,
   "metadata": {},
   "outputs": [
    {
     "data": {
      "text/plain": [
       "array([10., 14.])"
      ]
     },
     "execution_count": 27,
     "metadata": {},
     "output_type": "execute_result"
    }
   ],
   "source": [
    "# calculate the average of each row\n",
    "np.average(a1 + a2, axis=-1)"
   ]
  },
  {
   "cell_type": "code",
   "execution_count": 28,
   "metadata": {},
   "outputs": [],
   "source": [
    "a2 = a[0, :]"
   ]
  },
  {
   "cell_type": "code",
   "execution_count": 29,
   "metadata": {},
   "outputs": [
    {
     "data": {
      "text/plain": [
       "array([[1, 2]])"
      ]
     },
     "execution_count": 29,
     "metadata": {},
     "output_type": "execute_result"
    },
    {
     "data": {
      "text/plain": [
       "array([[3],\n",
       "       [4]])"
      ]
     },
     "execution_count": 29,
     "metadata": {},
     "output_type": "execute_result"
    },
    {
     "data": {
      "text/plain": [
       "array([[4, 5],\n",
       "       [5, 6]])"
      ]
     },
     "execution_count": 29,
     "metadata": {},
     "output_type": "execute_result"
    }
   ],
   "source": [
    "a = np.array([[1, 2]])\n",
    "b = np.array([[3], [4]])\n",
    "a\n",
    "b\n",
    "a + b"
   ]
  },
  {
   "cell_type": "code",
   "execution_count": 30,
   "metadata": {},
   "outputs": [
    {
     "data": {
      "text/plain": [
       "(1, 1, 2)"
      ]
     },
     "execution_count": 30,
     "metadata": {},
     "output_type": "execute_result"
    },
    {
     "data": {
      "text/plain": [
       "(2,)"
      ]
     },
     "execution_count": 30,
     "metadata": {},
     "output_type": "execute_result"
    },
    {
     "data": {
      "text/plain": [
       "(1, 1, 2)"
      ]
     },
     "execution_count": 30,
     "metadata": {},
     "output_type": "execute_result"
    }
   ],
   "source": [
    "x = np.array([1, 2])\n",
    "y = np.expand_dims(x, axis=[0, 1])\n",
    "y.shape\n",
    "x.shape\n",
    "\n",
    "x[np.newaxis, np.newaxis, :].shape"
   ]
  },
  {
   "cell_type": "code",
   "execution_count": 31,
   "metadata": {},
   "outputs": [
    {
     "data": {
      "text/plain": [
       "(1, 1, 2)"
      ]
     },
     "execution_count": 31,
     "metadata": {},
     "output_type": "execute_result"
    },
    {
     "ename": "ValueError",
     "evalue": "cannot select an axis to squeeze out which has size not equal to one",
     "output_type": "error",
     "traceback": [
      "\u001b[0;31m---------------------------------------------------------------------------\u001b[0m",
      "\u001b[0;31mValueError\u001b[0m                                Traceback (most recent call last)",
      "Cell \u001b[0;32mIn[31], line 2\u001b[0m\n\u001b[1;32m      1\u001b[0m y\u001b[39m.\u001b[39mshape\n\u001b[0;32m----> 2\u001b[0m y\u001b[39m.\u001b[39;49msqueeze(axis\u001b[39m=\u001b[39;49m\u001b[39m2\u001b[39;49m)\u001b[39m.\u001b[39mshape\n",
      "\u001b[0;31mValueError\u001b[0m: cannot select an axis to squeeze out which has size not equal to one"
     ]
    }
   ],
   "source": [
    "y.shape\n",
    "# throw error since the size of dimension axis 2 is not 1\n",
    "y.squeeze(axis=2).shape"
   ]
  },
  {
   "cell_type": "code",
   "execution_count": 32,
   "metadata": {},
   "outputs": [
    {
     "data": {
      "text/plain": [
       "0"
      ]
     },
     "execution_count": 32,
     "metadata": {},
     "output_type": "execute_result"
    }
   ],
   "source": [
    "a = np.ones([9, 5, 3])\n",
    "c = np.ones([3, 5])\n",
    "\n",
    "# matmul and dot are the same for 2D arrays multiplication\n",
    "np.sum(np.matmul(a, c) != np.dot(a, c), axis=None)"
   ]
  },
  {
   "cell_type": "code",
   "execution_count": 34,
   "metadata": {},
   "outputs": [
    {
     "data": {
      "text/plain": [
       "array([[ 2.,  1., nan],\n",
       "       [ 3., nan,  5.]])"
      ]
     },
     "execution_count": 34,
     "metadata": {},
     "output_type": "execute_result"
    }
   ],
   "source": [
    "a = np.array([[2, 1, np.nan], [3, np.nan, 5]])\n",
    "a"
   ]
  },
  {
   "cell_type": "code",
   "execution_count": 35,
   "metadata": {},
   "outputs": [
    {
     "data": {
      "text/plain": [
       "array([1.5, 4. ])"
      ]
     },
     "execution_count": 35,
     "metadata": {},
     "output_type": "execute_result"
    },
    {
     "data": {
      "text/plain": [
       "(2, 3)"
      ]
     },
     "execution_count": 35,
     "metadata": {},
     "output_type": "execute_result"
    }
   ],
   "source": [
    "# calculate average without nan for each row\n",
    "np.nanmean(a, axis=1)\n",
    "a.shape"
   ]
  },
  {
   "cell_type": "code",
   "execution_count": 36,
   "metadata": {},
   "outputs": [
    {
     "data": {
      "text/plain": [
       "array([2.5, 1. , 5. ])"
      ]
     },
     "execution_count": 36,
     "metadata": {},
     "output_type": "execute_result"
    }
   ],
   "source": [
    "# calculate average without nan for each column\n",
    "np.nanmean(a, axis=0)"
   ]
  },
  {
   "cell_type": "code",
   "execution_count": 37,
   "metadata": {},
   "outputs": [
    {
     "data": {
      "text/html": [
       "<div>\n",
       "<style scoped>\n",
       "    .dataframe tbody tr th:only-of-type {\n",
       "        vertical-align: middle;\n",
       "    }\n",
       "\n",
       "    .dataframe tbody tr th {\n",
       "        vertical-align: top;\n",
       "    }\n",
       "\n",
       "    .dataframe thead th {\n",
       "        text-align: right;\n",
       "    }\n",
       "</style>\n",
       "<table border=\"1\" class=\"dataframe\">\n",
       "  <thead>\n",
       "    <tr style=\"text-align: right;\">\n",
       "      <th></th>\n",
       "      <th>0</th>\n",
       "      <th>1</th>\n",
       "      <th>2</th>\n",
       "    </tr>\n",
       "  </thead>\n",
       "  <tbody>\n",
       "    <tr>\n",
       "      <th>0</th>\n",
       "      <td>2</td>\n",
       "      <td>1.0</td>\n",
       "      <td>NaN</td>\n",
       "    </tr>\n",
       "    <tr>\n",
       "      <th>1</th>\n",
       "      <td>3</td>\n",
       "      <td>NaN</td>\n",
       "      <td>5.0</td>\n",
       "    </tr>\n",
       "  </tbody>\n",
       "</table>\n",
       "</div>"
      ],
      "text/plain": [
       "   0    1    2\n",
       "0  2  1.0  NaN\n",
       "1  3  NaN  5.0"
      ]
     },
     "execution_count": 37,
     "metadata": {},
     "output_type": "execute_result"
    }
   ],
   "source": [
    "import pandas as pd\n",
    "\n",
    "a = pd.DataFrame([[2, 1, np.nan], [3, np.nan, 5]])\n",
    "a"
   ]
  },
  {
   "cell_type": "code",
   "execution_count": 38,
   "metadata": {},
   "outputs": [
    {
     "data": {
      "text/plain": [
       "pandas.core.series.Series"
      ]
     },
     "execution_count": 38,
     "metadata": {},
     "output_type": "execute_result"
    },
    {
     "data": {
      "text/plain": [
       "pandas.core.series.Series"
      ]
     },
     "execution_count": 38,
     "metadata": {},
     "output_type": "execute_result"
    }
   ],
   "source": [
    "type(a[0])\n",
    "type(a.loc[0])"
   ]
  },
  {
   "cell_type": "code",
   "execution_count": 39,
   "metadata": {},
   "outputs": [
    {
     "data": {
      "text/html": [
       "<div>\n",
       "<style scoped>\n",
       "    .dataframe tbody tr th:only-of-type {\n",
       "        vertical-align: middle;\n",
       "    }\n",
       "\n",
       "    .dataframe tbody tr th {\n",
       "        vertical-align: top;\n",
       "    }\n",
       "\n",
       "    .dataframe thead th {\n",
       "        text-align: right;\n",
       "    }\n",
       "</style>\n",
       "<table border=\"1\" class=\"dataframe\">\n",
       "  <thead>\n",
       "    <tr style=\"text-align: right;\">\n",
       "      <th></th>\n",
       "      <th>product_length</th>\n",
       "      <th>product_depth</th>\n",
       "      <th>product_width</th>\n",
       "      <th>cluster_id</th>\n",
       "      <th>hierarchy1_id</th>\n",
       "      <th>hierarchy2_id</th>\n",
       "      <th>hierarchy3_id</th>\n",
       "      <th>hierarchy4_id</th>\n",
       "      <th>hierarchy5_id</th>\n",
       "    </tr>\n",
       "    <tr>\n",
       "      <th>product_id</th>\n",
       "      <th></th>\n",
       "      <th></th>\n",
       "      <th></th>\n",
       "      <th></th>\n",
       "      <th></th>\n",
       "      <th></th>\n",
       "      <th></th>\n",
       "      <th></th>\n",
       "      <th></th>\n",
       "    </tr>\n",
       "  </thead>\n",
       "  <tbody>\n",
       "    <tr>\n",
       "      <th>P0000</th>\n",
       "      <td>5.0</td>\n",
       "      <td>20.0</td>\n",
       "      <td>12.0</td>\n",
       "      <td>NaN</td>\n",
       "      <td>H00</td>\n",
       "      <td>H0004</td>\n",
       "      <td>H000401</td>\n",
       "      <td>H00040105</td>\n",
       "      <td>H0004010534</td>\n",
       "    </tr>\n",
       "    <tr>\n",
       "      <th>P0001</th>\n",
       "      <td>13.5</td>\n",
       "      <td>22.0</td>\n",
       "      <td>20.0</td>\n",
       "      <td>cluster_5</td>\n",
       "      <td>H01</td>\n",
       "      <td>H0105</td>\n",
       "      <td>H010501</td>\n",
       "      <td>H01050100</td>\n",
       "      <td>H0105010006</td>\n",
       "    </tr>\n",
       "    <tr>\n",
       "      <th>P0002</th>\n",
       "      <td>22.0</td>\n",
       "      <td>40.0</td>\n",
       "      <td>22.0</td>\n",
       "      <td>cluster_0</td>\n",
       "      <td>H03</td>\n",
       "      <td>H0315</td>\n",
       "      <td>H031508</td>\n",
       "      <td>H03150800</td>\n",
       "      <td>H0315080028</td>\n",
       "    </tr>\n",
       "    <tr>\n",
       "      <th>P0004</th>\n",
       "      <td>2.0</td>\n",
       "      <td>13.0</td>\n",
       "      <td>4.0</td>\n",
       "      <td>cluster_3</td>\n",
       "      <td>H03</td>\n",
       "      <td>H0314</td>\n",
       "      <td>H031405</td>\n",
       "      <td>H03140500</td>\n",
       "      <td>H0314050003</td>\n",
       "    </tr>\n",
       "    <tr>\n",
       "      <th>P0005</th>\n",
       "      <td>16.0</td>\n",
       "      <td>30.0</td>\n",
       "      <td>16.0</td>\n",
       "      <td>cluster_9</td>\n",
       "      <td>H03</td>\n",
       "      <td>H0312</td>\n",
       "      <td>H031211</td>\n",
       "      <td>H03121109</td>\n",
       "      <td>H0312110917</td>\n",
       "    </tr>\n",
       "  </tbody>\n",
       "</table>\n",
       "</div>"
      ],
      "text/plain": [
       "            product_length  product_depth  product_width cluster_id   \n",
       "product_id                                                            \n",
       "P0000                  5.0           20.0           12.0        NaN  \\\n",
       "P0001                 13.5           22.0           20.0  cluster_5   \n",
       "P0002                 22.0           40.0           22.0  cluster_0   \n",
       "P0004                  2.0           13.0            4.0  cluster_3   \n",
       "P0005                 16.0           30.0           16.0  cluster_9   \n",
       "\n",
       "           hierarchy1_id hierarchy2_id hierarchy3_id hierarchy4_id   \n",
       "product_id                                                           \n",
       "P0000                H00         H0004       H000401     H00040105  \\\n",
       "P0001                H01         H0105       H010501     H01050100   \n",
       "P0002                H03         H0315       H031508     H03150800   \n",
       "P0004                H03         H0314       H031405     H03140500   \n",
       "P0005                H03         H0312       H031211     H03121109   \n",
       "\n",
       "           hierarchy5_id  \n",
       "product_id                \n",
       "P0000        H0004010534  \n",
       "P0001        H0105010006  \n",
       "P0002        H0315080028  \n",
       "P0004        H0314050003  \n",
       "P0005        H0312110917  "
      ]
     },
     "execution_count": 39,
     "metadata": {},
     "output_type": "execute_result"
    }
   ],
   "source": [
    "df = pd.read_csv(\"data/product_hierarchy.csv\", index_col=[0])\n",
    "df.head(5)"
   ]
  },
  {
   "cell_type": "code",
   "execution_count": 40,
   "metadata": {},
   "outputs": [
    {
     "data": {
      "text/plain": [
       "Index(['product_length', 'product_depth', 'product_width', 'cluster_id',\n",
       "       'hierarchy1_id', 'hierarchy2_id', 'hierarchy3_id', 'hierarchy4_id',\n",
       "       'hierarchy5_id'],\n",
       "      dtype='object')"
      ]
     },
     "execution_count": 40,
     "metadata": {},
     "output_type": "execute_result"
    },
    {
     "data": {
      "text/plain": [
       "FrozenList(['product_id'])"
      ]
     },
     "execution_count": 40,
     "metadata": {},
     "output_type": "execute_result"
    }
   ],
   "source": [
    "df.columns\n",
    "df.index.names"
   ]
  },
  {
   "cell_type": "code",
   "execution_count": 41,
   "metadata": {},
   "outputs": [
    {
     "name": "stdout",
     "output_type": "stream",
     "text": [
      "<class 'pandas.core.frame.DataFrame'>\n",
      "Index: 699 entries, P0000 to P0748\n",
      "Data columns (total 9 columns):\n",
      " #   Column          Non-Null Count  Dtype  \n",
      "---  ------          --------------  -----  \n",
      " 0   product_length  681 non-null    float64\n",
      " 1   product_depth   683 non-null    float64\n",
      " 2   product_width   683 non-null    float64\n",
      " 3   cluster_id      649 non-null    object \n",
      " 4   hierarchy1_id   699 non-null    object \n",
      " 5   hierarchy2_id   699 non-null    object \n",
      " 6   hierarchy3_id   699 non-null    object \n",
      " 7   hierarchy4_id   699 non-null    object \n",
      " 8   hierarchy5_id   699 non-null    object \n",
      "dtypes: float64(3), object(6)\n",
      "memory usage: 54.6+ KB\n"
     ]
    },
    {
     "data": {
      "text/plain": [
       "product_length    18\n",
       "product_depth     16\n",
       "product_width     16\n",
       "cluster_id        50\n",
       "hierarchy1_id      0\n",
       "hierarchy2_id      0\n",
       "hierarchy3_id      0\n",
       "hierarchy4_id      0\n",
       "hierarchy5_id      0\n",
       "dtype: int64"
      ]
     },
     "execution_count": 41,
     "metadata": {},
     "output_type": "execute_result"
    }
   ],
   "source": [
    "# get the information of the data frame\n",
    "# including the number of rows, columns, data types, and memory usage\n",
    "df.info()\n",
    "\n",
    "df.isna().sum()"
   ]
  },
  {
   "cell_type": "code",
   "execution_count": 42,
   "metadata": {},
   "outputs": [
    {
     "name": "stdout",
     "output_type": "stream",
     "text": [
      "H00\n",
      "            product_length  product_depth  product_width cluster_id   \n",
      "product_id                                                            \n",
      "P0000                  5.0           20.0           12.0        NaN  \\\n",
      "P0008                  5.0           16.0            5.0  cluster_0   \n",
      "P0009                  5.0           18.0           14.0  cluster_6   \n",
      "P0015                 10.0           33.0           10.0  cluster_1   \n",
      "P0016                  2.0           18.0            8.0  cluster_0   \n",
      "...                    ...            ...            ...        ...   \n",
      "P0719                  6.0           17.0            6.0        NaN   \n",
      "P0724                  6.0           24.0           10.0  cluster_0   \n",
      "P0725                  NaN            NaN            NaN  cluster_0   \n",
      "P0726                  1.0           15.0           10.0  cluster_0   \n",
      "P0733                  2.0            4.0            9.0  cluster_7   \n",
      "\n",
      "           hierarchy1_id hierarchy2_id hierarchy3_id hierarchy4_id   \n",
      "product_id                                                           \n",
      "P0000                H00         H0004       H000401     H00040105  \\\n",
      "P0008                H00         H0000       H000004     H00000400   \n",
      "P0009                H00         H0002       H000201     H00020100   \n",
      "P0015                H00         H0000       H000003     H00000309   \n",
      "P0016                H00         H0004       H000401     H00040105   \n",
      "...                  ...           ...           ...           ...   \n",
      "P0719                H00         H0000       H000004     H00000400   \n",
      "P0724                H00         H0003       H000310     H00031000   \n",
      "P0725                H00         H0004       H000402     H00040212   \n",
      "P0726                H00         H0003       H000312     H00031200   \n",
      "P0733                H00         H0003       H000314     H00031405   \n",
      "\n",
      "           hierarchy5_id  \n",
      "product_id                \n",
      "P0000        H0004010534  \n",
      "P0008        H0000040017  \n",
      "P0009        H0002010012  \n",
      "P0015        H0000030901  \n",
      "P0016        H0004010512  \n",
      "...                  ...  \n",
      "P0719        H0000040001  \n",
      "P0724        H0003100001  \n",
      "P0725        H0004021202  \n",
      "P0726        H0003120001  \n",
      "P0733        H0003140506  \n",
      "\n",
      "[215 rows x 9 columns]\n",
      "H01\n",
      "            product_length  product_depth  product_width cluster_id   \n",
      "product_id                                                            \n",
      "P0001                 13.5           22.0           20.0  cluster_5  \\\n",
      "P0010                  2.0           22.0            3.0  cluster_0   \n",
      "P0012                 10.0           20.0           12.3  cluster_0   \n",
      "P0013                  7.1           27.5           13.7        NaN   \n",
      "P0022                  5.7           18.6           10.1  cluster_0   \n",
      "...                    ...            ...            ...        ...   \n",
      "P0738                  3.5            8.5            3.5  cluster_0   \n",
      "P0741                  3.8           16.4            9.5  cluster_0   \n",
      "P0742                  6.4            7.0            6.4  cluster_0   \n",
      "P0747                 23.0           23.0           33.3  cluster_0   \n",
      "P0748                  3.8            4.8           15.3  cluster_0   \n",
      "\n",
      "           hierarchy1_id hierarchy2_id hierarchy3_id hierarchy4_id   \n",
      "product_id                                                           \n",
      "P0001                H01         H0105       H010501     H01050100  \\\n",
      "P0010                H01         H0108       H010801     H01080109   \n",
      "P0012                H01         H0107       H010702     H01070210   \n",
      "P0013                H01         H0105       H010503     H01050309   \n",
      "P0022                H01         H0108       H010809     H01080900   \n",
      "...                  ...           ...           ...           ...   \n",
      "P0738                H01         H0108       H010808     H01080814   \n",
      "P0741                H01         H0106       H010600     H01060013   \n",
      "P0742                H01         H0108       H010811     H01081100   \n",
      "P0747                H01         H0107       H010701     H01070100   \n",
      "P0748                H01         H0108       H010801     H01080110   \n",
      "\n",
      "           hierarchy5_id  \n",
      "product_id                \n",
      "P0001        H0105010006  \n",
      "P0010        H0108010917  \n",
      "P0012        H0107021001  \n",
      "P0013        H0105030906  \n",
      "P0022        H0108090012  \n",
      "...                  ...  \n",
      "P0738        H0108081412  \n",
      "P0741        H0106001345  \n",
      "P0742        H0108110038  \n",
      "P0747        H0107010026  \n",
      "P0748        H0108011006  \n",
      "\n",
      "[181 rows x 9 columns]\n",
      "H02\n",
      "            product_length  product_depth  product_width cluster_id   \n",
      "product_id                                                            \n",
      "P0176                  NaN            NaN            NaN  cluster_9  \\\n",
      "P0298                  NaN            NaN            NaN  cluster_9   \n",
      "P0344                  NaN            NaN            NaN  cluster_0   \n",
      "P0413                  0.0            0.0            0.0  cluster_7   \n",
      "P0566                  5.0           20.0           15.0  cluster_0   \n",
      "P0568                  5.0           20.0           30.0        NaN   \n",
      "P0610                  5.0           20.0           30.0  cluster_9   \n",
      "P0630                  NaN            NaN            NaN  cluster_9   \n",
      "P0727                  NaN            NaN            NaN        NaN   \n",
      "P0728                  3.0            4.0            4.0  cluster_0   \n",
      "P0745                  NaN            NaN            NaN  cluster_0   \n",
      "\n",
      "           hierarchy1_id hierarchy2_id hierarchy3_id hierarchy4_id   \n",
      "product_id                                                           \n",
      "P0176                H02         H0210       H021002     H02100200  \\\n",
      "P0298                H02         H0210       H021002     H02100200   \n",
      "P0344                H02         H0209       H020908     H02090804   \n",
      "P0413                H02         H0210       H021002     H02100203   \n",
      "P0566                H02         H0210       H021002     H02100200   \n",
      "P0568                H02         H0210       H021000     H02100001   \n",
      "P0610                H02         H0209       H020900     H02090000   \n",
      "P0630                H02         H0210       H021002     H02100203   \n",
      "P0727                H02         H0209       H020900     H02090000   \n",
      "P0728                H02         H0210       H021000     H02100001   \n",
      "P0745                H02         H0209       H020908     H02090804   \n",
      "\n",
      "           hierarchy5_id  \n",
      "product_id                \n",
      "P0176        H0210020008  \n",
      "P0298        H0210020008  \n",
      "P0344        H0209080429  \n",
      "P0413        H0210020302  \n",
      "P0566        H0210020002  \n",
      "P0568        H0210000107  \n",
      "P0610        H0209000001  \n",
      "P0630        H0210020304  \n",
      "P0727        H0209000001  \n",
      "P0728        H0210000104  \n",
      "P0745        H0209080422  \n",
      "H03\n",
      "            product_length  product_depth  product_width cluster_id   \n",
      "product_id                                                            \n",
      "P0002                 22.0           40.0           22.0  cluster_0  \\\n",
      "P0004                  2.0           13.0            4.0  cluster_3   \n",
      "P0005                 16.0           30.0           16.0  cluster_9   \n",
      "P0006                  8.5           15.0           15.0  cluster_0   \n",
      "P0007                  2.0           22.0            9.5  cluster_4   \n",
      "...                    ...            ...            ...        ...   \n",
      "P0737                  2.0           25.0            9.0  cluster_3   \n",
      "P0739                  8.5            9.0            8.5  cluster_3   \n",
      "P0740                  1.0           20.0           10.0  cluster_0   \n",
      "P0744                  2.0            7.0            7.0        NaN   \n",
      "P0746                  1.0            1.0            1.0  cluster_0   \n",
      "\n",
      "           hierarchy1_id hierarchy2_id hierarchy3_id hierarchy4_id   \n",
      "product_id                                                           \n",
      "P0002                H03         H0315       H031508     H03150800  \\\n",
      "P0004                H03         H0314       H031405     H03140500   \n",
      "P0005                H03         H0312       H031211     H03121109   \n",
      "P0006                H03         H0316       H031608     H03160817   \n",
      "P0007                H03         H0313       H031305     H03130519   \n",
      "...                  ...           ...           ...           ...   \n",
      "P0737                H03         H0311       H031111     H03111103   \n",
      "P0739                H03         H0312       H031208     H03120817   \n",
      "P0740                H03         H0313       H031305     H03130518   \n",
      "P0744                H03         H0311       H031108     H03110802   \n",
      "P0746                H03         H0314       H031407     H03140702   \n",
      "\n",
      "           hierarchy5_id  \n",
      "product_id                \n",
      "P0002        H0315080028  \n",
      "P0004        H0314050003  \n",
      "P0005        H0312110917  \n",
      "P0006        H0316081708  \n",
      "P0007        H0313051904  \n",
      "...                  ...  \n",
      "P0737        H0311110301  \n",
      "P0739        H0312081713  \n",
      "P0740        H0313051828  \n",
      "P0744        H0311080202  \n",
      "P0746        H0314070202  \n",
      "\n",
      "[292 rows x 9 columns]\n"
     ]
    }
   ],
   "source": [
    "# result of dataframe groupby can be iterated\n",
    "for key, sub_df in df.groupby(\"hierarchy1_id\"):\n",
    "    print(key)\n",
    "    print(sub_df)"
   ]
  },
  {
   "cell_type": "code",
   "execution_count": 43,
   "metadata": {},
   "outputs": [
    {
     "data": {
      "text/html": [
       "<div>\n",
       "<style scoped>\n",
       "    .dataframe tbody tr th:only-of-type {\n",
       "        vertical-align: middle;\n",
       "    }\n",
       "\n",
       "    .dataframe tbody tr th {\n",
       "        vertical-align: top;\n",
       "    }\n",
       "\n",
       "    .dataframe thead th {\n",
       "        text-align: right;\n",
       "    }\n",
       "</style>\n",
       "<table border=\"1\" class=\"dataframe\">\n",
       "  <thead>\n",
       "    <tr style=\"text-align: right;\">\n",
       "      <th></th>\n",
       "      <th></th>\n",
       "      <th>A</th>\n",
       "      <th>B</th>\n",
       "    </tr>\n",
       "  </thead>\n",
       "  <tbody>\n",
       "    <tr>\n",
       "      <th rowspan=\"2\" valign=\"top\">bar</th>\n",
       "      <th>one</th>\n",
       "      <td>3</td>\n",
       "      <td>a</td>\n",
       "    </tr>\n",
       "    <tr>\n",
       "      <th>two</th>\n",
       "      <td>5</td>\n",
       "      <td>b</td>\n",
       "    </tr>\n",
       "    <tr>\n",
       "      <th rowspan=\"2\" valign=\"top\">foo</th>\n",
       "      <th>one</th>\n",
       "      <td>7</td>\n",
       "      <td>c</td>\n",
       "    </tr>\n",
       "    <tr>\n",
       "      <th>two</th>\n",
       "      <td>6</td>\n",
       "      <td>d</td>\n",
       "    </tr>\n",
       "  </tbody>\n",
       "</table>\n",
       "</div>"
      ],
      "text/plain": [
       "         A  B\n",
       "bar one  3  a\n",
       "    two  5  b\n",
       "foo one  7  c\n",
       "    two  6  d"
      ]
     },
     "execution_count": 43,
     "metadata": {},
     "output_type": "execute_result"
    },
    {
     "data": {
      "text/plain": [
       "bar  one  A    3\n",
       "          B    a\n",
       "     two  A    5\n",
       "          B    b\n",
       "foo  one  A    7\n",
       "          B    c\n",
       "     two  A    6\n",
       "          B    d\n",
       "dtype: object"
      ]
     },
     "execution_count": 43,
     "metadata": {},
     "output_type": "execute_result"
    }
   ],
   "source": [
    "df = pd.DataFrame(\n",
    "    {\"A\": [3, 5, 7, 6], \"B\": [\"a\", \"b\", \"c\", \"d\"]},\n",
    "    index=pd.MultiIndex.from_product([[\"bar\", \"foo\"], [\"one\", \"two\"]]),\n",
    ")\n",
    "df\n",
    "# stack the DataFrame columns\n",
    "sdf = df.stack()\n",
    "sdf"
   ]
  },
  {
   "cell_type": "code",
   "execution_count": 44,
   "metadata": {},
   "outputs": [],
   "source": [
    "sdf = pd.DataFrame(sdf)\n",
    "# set the names of index\n",
    "sdf.index.names = [\"first\", \"second\", \"third\"]\n",
    "\n",
    "# set the names of columns\n",
    "sdf.rename(columns={0: \"value\"}, inplace=True)\n",
    "sdf.columns = [\"col\"]\n",
    "# reset the index to be dataframe columns\n",
    "sdf = sdf.reset_index()"
   ]
  },
  {
   "cell_type": "code",
   "execution_count": 45,
   "metadata": {},
   "outputs": [
    {
     "data": {
      "text/html": [
       "<div>\n",
       "<style scoped>\n",
       "    .dataframe tbody tr th:only-of-type {\n",
       "        vertical-align: middle;\n",
       "    }\n",
       "\n",
       "    .dataframe tbody tr th {\n",
       "        vertical-align: top;\n",
       "    }\n",
       "\n",
       "    .dataframe thead th {\n",
       "        text-align: right;\n",
       "    }\n",
       "</style>\n",
       "<table border=\"1\" class=\"dataframe\">\n",
       "  <thead>\n",
       "    <tr style=\"text-align: right;\">\n",
       "      <th></th>\n",
       "      <th>first</th>\n",
       "      <th>second</th>\n",
       "      <th>third</th>\n",
       "      <th>col</th>\n",
       "    </tr>\n",
       "  </thead>\n",
       "  <tbody>\n",
       "    <tr>\n",
       "      <th>0</th>\n",
       "      <td>bar</td>\n",
       "      <td>one</td>\n",
       "      <td>A</td>\n",
       "      <td>3</td>\n",
       "    </tr>\n",
       "    <tr>\n",
       "      <th>1</th>\n",
       "      <td>bar</td>\n",
       "      <td>one</td>\n",
       "      <td>B</td>\n",
       "      <td>a</td>\n",
       "    </tr>\n",
       "    <tr>\n",
       "      <th>2</th>\n",
       "      <td>bar</td>\n",
       "      <td>two</td>\n",
       "      <td>A</td>\n",
       "      <td>5</td>\n",
       "    </tr>\n",
       "    <tr>\n",
       "      <th>3</th>\n",
       "      <td>bar</td>\n",
       "      <td>two</td>\n",
       "      <td>B</td>\n",
       "      <td>b</td>\n",
       "    </tr>\n",
       "    <tr>\n",
       "      <th>4</th>\n",
       "      <td>foo</td>\n",
       "      <td>one</td>\n",
       "      <td>A</td>\n",
       "      <td>7</td>\n",
       "    </tr>\n",
       "    <tr>\n",
       "      <th>5</th>\n",
       "      <td>foo</td>\n",
       "      <td>one</td>\n",
       "      <td>B</td>\n",
       "      <td>c</td>\n",
       "    </tr>\n",
       "    <tr>\n",
       "      <th>6</th>\n",
       "      <td>foo</td>\n",
       "      <td>two</td>\n",
       "      <td>A</td>\n",
       "      <td>6</td>\n",
       "    </tr>\n",
       "    <tr>\n",
       "      <th>7</th>\n",
       "      <td>foo</td>\n",
       "      <td>two</td>\n",
       "      <td>B</td>\n",
       "      <td>d</td>\n",
       "    </tr>\n",
       "  </tbody>\n",
       "</table>\n",
       "</div>"
      ],
      "text/plain": [
       "  first second third col\n",
       "0   bar    one     A   3\n",
       "1   bar    one     B   a\n",
       "2   bar    two     A   5\n",
       "3   bar    two     B   b\n",
       "4   foo    one     A   7\n",
       "5   foo    one     B   c\n",
       "6   foo    two     A   6\n",
       "7   foo    two     B   d"
      ]
     },
     "execution_count": 45,
     "metadata": {},
     "output_type": "execute_result"
    }
   ],
   "source": [
    "sdf"
   ]
  },
  {
   "cell_type": "code",
   "execution_count": 46,
   "metadata": {},
   "outputs": [
    {
     "data": {
      "text/html": [
       "<div>\n",
       "<style scoped>\n",
       "    .dataframe tbody tr th:only-of-type {\n",
       "        vertical-align: middle;\n",
       "    }\n",
       "\n",
       "    .dataframe tbody tr th {\n",
       "        vertical-align: top;\n",
       "    }\n",
       "\n",
       "    .dataframe thead th {\n",
       "        text-align: right;\n",
       "    }\n",
       "</style>\n",
       "<table border=\"1\" class=\"dataframe\">\n",
       "  <thead>\n",
       "    <tr style=\"text-align: right;\">\n",
       "      <th></th>\n",
       "      <th>foo</th>\n",
       "      <th>bar</th>\n",
       "      <th>baz</th>\n",
       "      <th>zoo</th>\n",
       "    </tr>\n",
       "  </thead>\n",
       "  <tbody>\n",
       "    <tr>\n",
       "      <th>0</th>\n",
       "      <td>one</td>\n",
       "      <td>A</td>\n",
       "      <td>1</td>\n",
       "      <td>x</td>\n",
       "    </tr>\n",
       "    <tr>\n",
       "      <th>1</th>\n",
       "      <td>one</td>\n",
       "      <td>B</td>\n",
       "      <td>2</td>\n",
       "      <td>y</td>\n",
       "    </tr>\n",
       "    <tr>\n",
       "      <th>2</th>\n",
       "      <td>one</td>\n",
       "      <td>C</td>\n",
       "      <td>3</td>\n",
       "      <td>z</td>\n",
       "    </tr>\n",
       "    <tr>\n",
       "      <th>3</th>\n",
       "      <td>two</td>\n",
       "      <td>A</td>\n",
       "      <td>4</td>\n",
       "      <td>q</td>\n",
       "    </tr>\n",
       "    <tr>\n",
       "      <th>4</th>\n",
       "      <td>two</td>\n",
       "      <td>B</td>\n",
       "      <td>5</td>\n",
       "      <td>w</td>\n",
       "    </tr>\n",
       "    <tr>\n",
       "      <th>5</th>\n",
       "      <td>two</td>\n",
       "      <td>C</td>\n",
       "      <td>6</td>\n",
       "      <td>t</td>\n",
       "    </tr>\n",
       "  </tbody>\n",
       "</table>\n",
       "</div>"
      ],
      "text/plain": [
       "   foo bar  baz zoo\n",
       "0  one   A    1   x\n",
       "1  one   B    2   y\n",
       "2  one   C    3   z\n",
       "3  two   A    4   q\n",
       "4  two   B    5   w\n",
       "5  two   C    6   t"
      ]
     },
     "execution_count": 46,
     "metadata": {},
     "output_type": "execute_result"
    }
   ],
   "source": [
    "df = pd.DataFrame(\n",
    "    {\n",
    "        \"foo\": [\"one\", \"one\", \"one\", \"two\", \"two\", \"two\"],\n",
    "        \"bar\": [\"A\", \"B\", \"C\", \"A\", \"B\", \"C\"],\n",
    "        \"baz\": [1, 2, 3, 4, 5, 6],\n",
    "        \"zoo\": [\"x\", \"y\", \"z\", \"q\", \"w\", \"t\"],\n",
    "    }\n",
    ")\n",
    "df"
   ]
  },
  {
   "cell_type": "code",
   "execution_count": 47,
   "metadata": {},
   "outputs": [
    {
     "data": {
      "text/html": [
       "<div>\n",
       "<style scoped>\n",
       "    .dataframe tbody tr th:only-of-type {\n",
       "        vertical-align: middle;\n",
       "    }\n",
       "\n",
       "    .dataframe tbody tr th {\n",
       "        vertical-align: top;\n",
       "    }\n",
       "\n",
       "    .dataframe thead th {\n",
       "        text-align: right;\n",
       "    }\n",
       "</style>\n",
       "<table border=\"1\" class=\"dataframe\">\n",
       "  <thead>\n",
       "    <tr style=\"text-align: right;\">\n",
       "      <th>baz</th>\n",
       "      <th>1</th>\n",
       "      <th>2</th>\n",
       "      <th>3</th>\n",
       "      <th>4</th>\n",
       "      <th>5</th>\n",
       "      <th>6</th>\n",
       "    </tr>\n",
       "    <tr>\n",
       "      <th>foo</th>\n",
       "      <th></th>\n",
       "      <th></th>\n",
       "      <th></th>\n",
       "      <th></th>\n",
       "      <th></th>\n",
       "      <th></th>\n",
       "    </tr>\n",
       "  </thead>\n",
       "  <tbody>\n",
       "    <tr>\n",
       "      <th>one</th>\n",
       "      <td>x</td>\n",
       "      <td>y</td>\n",
       "      <td>z</td>\n",
       "      <td>NaN</td>\n",
       "      <td>NaN</td>\n",
       "      <td>NaN</td>\n",
       "    </tr>\n",
       "    <tr>\n",
       "      <th>two</th>\n",
       "      <td>NaN</td>\n",
       "      <td>NaN</td>\n",
       "      <td>NaN</td>\n",
       "      <td>q</td>\n",
       "      <td>w</td>\n",
       "      <td>t</td>\n",
       "    </tr>\n",
       "  </tbody>\n",
       "</table>\n",
       "</div>"
      ],
      "text/plain": [
       "baz    1    2    3    4    5    6\n",
       "foo                              \n",
       "one    x    y    z  NaN  NaN  NaN\n",
       "two  NaN  NaN  NaN    q    w    t"
      ]
     },
     "execution_count": 47,
     "metadata": {},
     "output_type": "execute_result"
    }
   ],
   "source": [
    "# directly create a pivot table\n",
    "# row is foo, column is baz, value is zoo\n",
    "\n",
    "df.pivot(index=\"foo\", columns=\"baz\", values=\"zoo\")"
   ]
  },
  {
   "cell_type": "code",
   "execution_count": 48,
   "metadata": {},
   "outputs": [
    {
     "data": {
      "text/html": [
       "<div>\n",
       "<style scoped>\n",
       "    .dataframe tbody tr th:only-of-type {\n",
       "        vertical-align: middle;\n",
       "    }\n",
       "\n",
       "    .dataframe tbody tr th {\n",
       "        vertical-align: top;\n",
       "    }\n",
       "\n",
       "    .dataframe thead th {\n",
       "        text-align: right;\n",
       "    }\n",
       "</style>\n",
       "<table border=\"1\" class=\"dataframe\">\n",
       "  <thead>\n",
       "    <tr style=\"text-align: right;\">\n",
       "      <th></th>\n",
       "      <th>foo</th>\n",
       "      <th>bar</th>\n",
       "      <th>baz</th>\n",
       "      <th>zoo</th>\n",
       "    </tr>\n",
       "  </thead>\n",
       "  <tbody>\n",
       "    <tr>\n",
       "      <th>0</th>\n",
       "      <td>one</td>\n",
       "      <td>C</td>\n",
       "      <td>3</td>\n",
       "      <td>z</td>\n",
       "    </tr>\n",
       "    <tr>\n",
       "      <th>1</th>\n",
       "      <td>one</td>\n",
       "      <td>B</td>\n",
       "      <td>2</td>\n",
       "      <td>y</td>\n",
       "    </tr>\n",
       "    <tr>\n",
       "      <th>2</th>\n",
       "      <td>one</td>\n",
       "      <td>A</td>\n",
       "      <td>1</td>\n",
       "      <td>x</td>\n",
       "    </tr>\n",
       "    <tr>\n",
       "      <th>3</th>\n",
       "      <td>two</td>\n",
       "      <td>C</td>\n",
       "      <td>6</td>\n",
       "      <td>t</td>\n",
       "    </tr>\n",
       "    <tr>\n",
       "      <th>4</th>\n",
       "      <td>two</td>\n",
       "      <td>B</td>\n",
       "      <td>5</td>\n",
       "      <td>w</td>\n",
       "    </tr>\n",
       "    <tr>\n",
       "      <th>5</th>\n",
       "      <td>two</td>\n",
       "      <td>A</td>\n",
       "      <td>4</td>\n",
       "      <td>q</td>\n",
       "    </tr>\n",
       "  </tbody>\n",
       "</table>\n",
       "</div>"
      ],
      "text/plain": [
       "   foo bar  baz zoo\n",
       "0  one   C    3   z\n",
       "1  one   B    2   y\n",
       "2  one   A    1   x\n",
       "3  two   C    6   t\n",
       "4  two   B    5   w\n",
       "5  two   A    4   q"
      ]
     },
     "execution_count": 48,
     "metadata": {},
     "output_type": "execute_result"
    }
   ],
   "source": [
    "# can apply a function to a dataframe groupby object\n",
    "df.groupby('foo').apply(lambda x: x.sort_values('baz', ascending=False)).reset_index(drop=True)"
   ]
  }
 ],
 "metadata": {
  "kernelspec": {
   "display_name": "course",
   "language": "python",
   "name": "python3"
  },
  "language_info": {
   "codemirror_mode": {
    "name": "ipython",
    "version": 3
   },
   "file_extension": ".py",
   "mimetype": "text/x-python",
   "name": "python",
   "nbconvert_exporter": "python",
   "pygments_lexer": "ipython3",
   "version": "3.11.3"
  },
  "orig_nbformat": 4
 },
 "nbformat": 4,
 "nbformat_minor": 2
}
