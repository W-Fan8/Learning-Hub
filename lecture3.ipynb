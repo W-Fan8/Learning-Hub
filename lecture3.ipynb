{
 "cells": [
  {
   "cell_type": "code",
   "execution_count": 1,
   "metadata": {},
   "outputs": [
    {
     "name": "stderr",
     "output_type": "stream",
     "text": [
      "Setting default log level to \"WARN\".\n",
      "To adjust logging level use sc.setLogLevel(newLevel). For SparkR, use setLogLevel(newLevel).\n",
      "23/05/13 21:43:16 WARN NativeCodeLoader: Unable to load native-hadoop library for your platform... using builtin-java classes where applicable\n"
     ]
    }
   ],
   "source": [
    "# http://qwone.com/~jason/20Newsgroups/ 下载 20-news 数据\n",
    "# 20-news 数据集包含 20 个不同主题\n",
    "# 20-news 数据集的目录结构如下：\n",
    "# 20news-18828\n",
    "# ├── alt.atheism\n",
    "# ├── comp.graphics\n",
    "# ├── comp.os.ms-windows.misc\n",
    "# ├── comp.sys.ibm.pc.hardware\n",
    "# ├── comp.sys.mac.hardware\n",
    "# ├── comp.windows.x\n",
    "# ├── misc.forsale\n",
    "# ├── rec.autos\n",
    "# ├── rec.motorcycles\n",
    "# ├── rec.sport.baseball\n",
    "# ├── rec.sport.hockey\n",
    "# ├── sci.crypt\n",
    "# ├── sci.electronics\n",
    "# ├── sci.med\n",
    "# ├── sci.space\n",
    "# ├── soc.religion.christian\n",
    "# ├── talk.politics.guns\n",
    "# ├── talk.politics.mideast\n",
    "# ├── talk.politics.misc\n",
    "# └── talk.religion.misc\n",
    "\n",
    "\n",
    "from pyspark.sql import SparkSession\n",
    "from IPython.core.interactiveshell import InteractiveShell\n",
    "InteractiveShell.ast_node_interactivity = \"all\"\n",
    "\n",
    "spark = SparkSession.builder.appName(\"lecture3\").getOrCreate()\n",
    "\n",
    "sc = spark.sparkContext"
   ]
  },
  {
   "cell_type": "code",
   "execution_count": 9,
   "metadata": {},
   "outputs": [],
   "source": [
    "from nltk.corpus import stopwords\n",
    "\n",
    "# 试用前需要下载 nltk 的 stop_words\n",
    "# import nltk\n",
    "# nltk.download('stopwords')\n",
    "stop_words = set(stopwords.words(\"english\"))"
   ]
  },
  {
   "cell_type": "code",
   "execution_count": 10,
   "metadata": {},
   "outputs": [],
   "source": [
    "def remove_punctuation(text):\n",
    "    # 删除标点符号\n",
    "    import string\n",
    "    return text.translate(str.maketrans('', '', string.punctuation))"
   ]
  },
  {
   "cell_type": "code",
   "execution_count": 11,
   "metadata": {},
   "outputs": [
    {
     "data": {
      "text/plain": [
       "'Hi Im peter'"
      ]
     },
     "execution_count": 11,
     "metadata": {},
     "output_type": "execute_result"
    }
   ],
   "source": [
    "remove_punctuation(\"Hi, I'm peter!\")"
   ]
  },
  {
   "cell_type": "code",
   "execution_count": 12,
   "metadata": {},
   "outputs": [],
   "source": [
    "rdd = sc.wholeTextFiles('20news-18828/comp.graphics/*')"
   ]
  },
  {
   "cell_type": "code",
   "execution_count": 13,
   "metadata": {},
   "outputs": [
    {
     "data": {
      "text/plain": [
       "[\"from: lipman@oasys.dt.navy.mil (robert lipman)\\nsubject: call for presentations: navy sciviz/vr seminar\\n\\n\\n\\t\\t\\tcall for presentations\\n\\t\\n      navy scientific visualization and virtual reality seminar\\n\\n\\t\\t\\ttuesday, june 22, 1993\\n\\n\\t    carderock division, naval surface warfare center\\n\\t      (formerly the david taylor research center)\\n\\t\\t\\t  bethesda, maryland\\n\\nsponsor: ness (navy engineering software system) is sponsoring a \\none-day navy scientific visualization and virtual reality seminar.  \\nthe purpose of the seminar is to present and exchange information for\\nnavy-related scientific visualization and virtual reality programs, \\nresearch, developments, and applications.\\n\\npresentations: presentations are solicited on all aspects of \\nnavy-related scientific visualization and virtual reality.  all \\ncurrent work, works-in-progress, and proposed work by navy \\norganizations will be considered.  four types of presentations are \\navailable.\\n\\n     1. regular presentation: 20-30 minutes in length\\n     2. short presentation: 10 minutes in length\\n     3. video presentation: a stand-alone videotape (author need not \\n\\tattend the seminar)\\n     4. scientific visualization or virtual reality demonstration (byoh)\\n\\naccepted presentations will not be published in any proceedings, \\nhowever, viewgraphs and other materials will be reproduced for \\nseminar attendees.\\n\\nabstracts: authors should submit a one page abstract and/or videotape to:\\n\\n     robert lipman\\n     naval surface warfare center, carderock division\\n     code 2042\\n     bethesda, maryland  20084-5000\\n\\n     voice (301) 227-3618;  fax (301) 227-5753  \\n     e-mail  lipman@oasys.dt.navy.mil\\n\\nauthors should include the type of presentation, their affiliations, \\naddresses, telephone and fax numbers, and addresses.  multi-author \\npapers should designate one point of contact.\\n\\ndeadlines: the abstact submission deadline is april 30, 1993.  \\nnotification of acceptance will be sent by may 14, 1993.  \\nmaterials for reproduction must be received by june 1, 1993.\\n\\nfor further information, contact robert lipman at the above address.\\n\\n\\t  please distribute as widely as possible, thanks.\\n\\n\\n\\n\\nrobert lipman                     | internet: lipman@oasys.dt.navy.mil\\ndavid taylor model basin - cdnswc |       or: lip@ocean.dt.navy.mil\\ncomputational signatures and      | voicenet: (301) 227-3618\\n   structures group, code 2042    | factsnet: (301) 227-5753\\nbethesda, maryland  20084-5000    | phishnet: stockings@long.legs\\n\\t\\t\\t\\t   \\nthe sixth sick shiek's sixth sheep's sick.\\n\"]"
      ]
     },
     "execution_count": 13,
     "metadata": {},
     "output_type": "execute_result"
    },
    {
     "data": {
      "text/plain": [
       "['from:']"
      ]
     },
     "execution_count": 13,
     "metadata": {},
     "output_type": "execute_result"
    },
    {
     "data": {
      "text/plain": [
       "[('lipmanoasysdtnavymil', 1)]"
      ]
     },
     "execution_count": 13,
     "metadata": {},
     "output_type": "execute_result"
    }
   ],
   "source": [
    "# map step in mapreduce\n",
    "# 转换成小写\n",
    "rdd = rdd.map(lambda x: x[1].lower())\n",
    "rdd.take(1)\n",
    "# 分词\n",
    "rdd = rdd.flatMap(lambda x: x.split())\n",
    "rdd.take(1)\n",
    "# 去除停用词\n",
    "rdd = rdd.filter(lambda x: x not in stop_words)\n",
    "# 去除标点符号\n",
    "rdd = rdd.map(remove_punctuation)\n",
    "# 去掉停用词和空字符串\n",
    "rdd = rdd.filter(lambda x: x not in stop_words)\n",
    "rdd = rdd.filter(lambda x: x != '')\n",
    "# 每个词出现就计1\n",
    "rdd = rdd.map(lambda x: (x, 1))\n",
    "rdd.take(1)"
   ]
  },
  {
   "cell_type": "code",
   "execution_count": 14,
   "metadata": {},
   "outputs": [
    {
     "data": {
      "text/plain": [
       "[('image', 1203),\n",
       " ('subject', 1060),\n",
       " ('graphics', 755),\n",
       " ('jpeg', 693),\n",
       " ('file', 682),\n",
       " ('images', 582),\n",
       " ('would', 566),\n",
       " ('also', 539),\n",
       " ('files', 509),\n",
       " ('software', 507),\n",
       " ('use', 499),\n",
       " ('available', 487),\n",
       " ('one', 487),\n",
       " ('format', 476),\n",
       " ('data', 471),\n",
       " ('program', 447),\n",
       " ('get', 437),\n",
       " ('like', 433),\n",
       " ('know', 406),\n",
       " ('writes', 391),\n",
       " ('version', 383),\n",
       " ('email', 382),\n",
       " ('gif', 380),\n",
       " ('3d', 377),\n",
       " ('article', 366),\n",
       " ('computer', 360),\n",
       " ('ftp', 353),\n",
       " ('need', 353),\n",
       " ('color', 351),\n",
       " ('information', 341),\n",
       " ('please', 330),\n",
       " ('display', 321),\n",
       " ('help', 314),\n",
       " ('thanks', 306),\n",
       " ('im', 304),\n",
       " ('system', 304),\n",
       " ('see', 298),\n",
       " ('anyone', 295),\n",
       " ('package', 293),\n",
       " ('using', 283),\n",
       " ('1', 281),\n",
       " ('code', 281),\n",
       " ('bit', 274),\n",
       " ('2', 273),\n",
       " ('find', 273),\n",
       " ('may', 264),\n",
       " ('many', 262),\n",
       " ('etc', 255),\n",
       " ('could', 254),\n",
       " ('good', 250),\n",
       " ('free', 245),\n",
       " ('programs', 239),\n",
       " ('much', 239),\n",
       " ('send', 238),\n",
       " ('want', 238),\n",
       " ('c', 237),\n",
       " ('well', 230),\n",
       " ('time', 229),\n",
       " ('line', 225),\n",
       " ('number', 224),\n",
       " ('new', 218),\n",
       " ('looking', 209),\n",
       " ('university', 209),\n",
       " ('formats', 209),\n",
       " ('x', 209),\n",
       " ('work', 204),\n",
       " ('used', 204),\n",
       " ('read', 203),\n",
       " ('think', 202),\n",
       " ('systems', 202),\n",
       " ('video', 201),\n",
       " ('fax', 199),\n",
       " ('problem', 199),\n",
       " ('mail', 197),\n",
       " ('processing', 197),\n",
       " ('24', 196),\n",
       " ('3', 196),\n",
       " ('two', 193),\n",
       " ('windows', 190),\n",
       " ('point', 186),\n",
       " ('support', 186),\n",
       " ('make', 179),\n",
       " ('mac', 178),\n",
       " ('quality', 178),\n",
       " ('tiff', 178),\n",
       " ('ive', 178),\n",
       " ('library', 173),\n",
       " ('4', 172),\n",
       " ('pc', 171),\n",
       " ('convert', 171),\n",
       " ('even', 167),\n",
       " ('group', 165),\n",
       " ('directory', 164),\n",
       " ('source', 164),\n",
       " ('8', 164),\n",
       " ('way', 164),\n",
       " ('better', 164),\n",
       " ('first', 161),\n",
       " ('address', 160),\n",
       " ('points', 158),\n",
       " ('screen', 157),\n",
       " ('look', 156),\n",
       " ('info', 155),\n",
       " ('people', 152),\n",
       " ('another', 151),\n",
       " ('different', 150),\n",
       " ('24bit', 150),\n",
       " ('contact', 149),\n",
       " ('research', 147),\n",
       " ('10', 145),\n",
       " ('list', 144),\n",
       " ('colors', 143),\n",
       " ('set', 143),\n",
       " ('viewer', 143),\n",
       " ('without', 143),\n",
       " ('ray', 143),\n",
       " ('note', 141),\n",
       " ('sgi', 140),\n",
       " ('via', 139),\n",
       " ('unix', 139),\n",
       " ('sites', 139),\n",
       " ('standard', 139),\n",
       " ('something', 138),\n",
       " ('xv', 138),\n",
       " ('user', 137),\n",
       " ('analysis', 137),\n",
       " ('write', 135),\n",
       " ('objects', 134),\n",
       " ('center', 133),\n",
       " ('polygon', 133),\n",
       " ('sun', 132),\n",
       " ('run', 131),\n",
       " ('internet', 130),\n",
       " ('hardware', 130),\n",
       " ('conversion', 130),\n",
       " ('algorithm', 127),\n",
       " ('animation', 127),\n",
       " ('based', 126),\n",
       " ('stuff', 125),\n",
       " ('faq', 125),\n",
       " ('mode', 124),\n",
       " ('bits', 123),\n",
       " ('since', 123),\n",
       " ('hi', 123),\n",
       " ('try', 122),\n",
       " ('lot', 122),\n",
       " ('go', 121),\n",
       " ('fast', 121),\n",
       " ('current', 120),\n",
       " ('cant', 120),\n",
       " ('site', 118),\n",
       " ('original', 118),\n",
       " ('best', 117),\n",
       " ('post', 117),\n",
       " ('card', 116),\n",
       " ('called', 116),\n",
       " ('5', 115),\n",
       " ('users', 115),\n",
       " ('include', 114),\n",
       " ('shareware', 114),\n",
       " ('amiga', 112),\n",
       " ('project', 111),\n",
       " ('around', 110),\n",
       " ('full', 110),\n",
       " ('postscript', 110),\n",
       " ('book', 110),\n",
       " ('output', 109),\n",
       " ('space', 109),\n",
       " ('either', 109),\n",
       " ('quicktime', 109),\n",
       " ('vga', 108),\n",
       " ('advance', 107),\n",
       " ('back', 107),\n",
       " ('got', 106),\n",
       " ('simple', 106),\n",
       " ('tools', 106),\n",
       " ('name', 106),\n",
       " ('interested', 105),\n",
       " ('programming', 105),\n",
       " ('check', 105),\n",
       " ('ibm', 104),\n",
       " ('phone', 104),\n",
       " ('0', 104),\n",
       " ('inc', 104),\n",
       " ('view', 104),\n",
       " ('must', 103),\n",
       " ('applications', 103),\n",
       " ('interface', 103),\n",
       " ('able', 102),\n",
       " ('following', 102),\n",
       " ('david', 102),\n",
       " ('take', 101),\n",
       " ('give', 101),\n",
       " ('still', 100),\n",
       " ('archive', 99),\n",
       " ('might', 99),\n",
       " ('dos', 99),\n",
       " ('question', 98),\n",
       " ('anything', 98),\n",
       " ('sure', 97)]"
      ]
     },
     "execution_count": 14,
     "metadata": {},
     "output_type": "execute_result"
    }
   ],
   "source": [
    "# reduce step in mapreduce\n",
    "# 按照 key 进行聚合\n",
    "rdd = rdd.reduceByKey(lambda x, y: x + y)\n",
    "# 按照词频排序\n",
    "rdd = rdd.sortBy(lambda x: x[1], ascending=False)\n",
    "rdd.take(200)"
   ]
  },
  {
   "cell_type": "code",
   "execution_count": 47,
   "metadata": {},
   "outputs": [
    {
     "data": {
      "text/plain": [
       "[(1001, ('Mike', 'Sales')), (1002, ('Peter', 'IT'))]"
      ]
     },
     "execution_count": 47,
     "metadata": {},
     "output_type": "execute_result"
    },
    {
     "data": {
      "text/plain": [
       "[(1001, ('Mike', 'Sales')),\n",
       " (1002, ('Peter', 'IT')),\n",
       " (1003, ('John', None)),\n",
       " (1004, ('Mary', None))]"
      ]
     },
     "execution_count": 47,
     "metadata": {},
     "output_type": "execute_result"
    },
    {
     "data": {
      "text/plain": [
       "[(1001, ('Mike', 'Sales')),\n",
       " (1002, ('Peter', 'IT')),\n",
       " (1005, (None, 'Engineering'))]"
      ]
     },
     "execution_count": 47,
     "metadata": {},
     "output_type": "execute_result"
    }
   ],
   "source": [
    "# RDD 的 Join 操作\n",
    "\n",
    "rdd1 = sc.parallelize([(1001, 'Mike'), (1002, 'Peter'), (1003, 'John'), (1004, 'Mary')])\n",
    "rdd2 = sc.parallelize([(1001, 'Sales'), (1002, 'IT'), (1005, 'Engineering')])\n",
    "\n",
    "rdd1.join(rdd2).collect()\n",
    "\n",
    "rdd1.leftOuterJoin(rdd2).collect()\n",
    "\n",
    "rdd1.rightOuterJoin(rdd2).collect()"
   ]
  }
 ],
 "metadata": {
  "kernelspec": {
   "display_name": "course",
   "language": "python",
   "name": "python3"
  },
  "language_info": {
   "codemirror_mode": {
    "name": "ipython",
    "version": 3
   },
   "file_extension": ".py",
   "mimetype": "text/x-python",
   "name": "python",
   "nbconvert_exporter": "python",
   "pygments_lexer": "ipython3",
   "version": "3.8.3"
  },
  "orig_nbformat": 4
 },
 "nbformat": 4,
 "nbformat_minor": 2
}
