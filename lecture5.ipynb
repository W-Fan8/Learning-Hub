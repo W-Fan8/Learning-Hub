{
 "cells": [
  {
   "cell_type": "code",
   "execution_count": 47,
   "metadata": {},
   "outputs": [
    {
     "name": "stdout",
     "output_type": "stream",
     "text": [
      "root\n",
      " |-- employee_name: string (nullable = true)\n",
      " |-- department: string (nullable = true)\n",
      " |-- state: string (nullable = true)\n",
      " |-- salary: long (nullable = true)\n",
      " |-- age: long (nullable = true)\n",
      " |-- bonus: long (nullable = true)\n",
      "\n",
      "+-------------+----------+-----+------+---+-----+\n",
      "|employee_name|department|state|salary|age|bonus|\n",
      "+-------------+----------+-----+------+---+-----+\n",
      "|James        |Sales     |NY   |90000 |34 |10000|\n",
      "|Michael      |Sales     |NV   |86000 |56 |20000|\n",
      "|Robert       |Sales     |CA   |81000 |30 |23000|\n",
      "|Maria        |Finance   |CA   |90000 |24 |23000|\n",
      "|Raman        |Finance   |DE   |99000 |40 |24000|\n",
      "|Scott        |Finance   |NY   |83000 |36 |19000|\n",
      "|Jen          |Finance   |NY   |79000 |53 |15000|\n",
      "|Jeff         |Marketing |NV   |80000 |25 |18000|\n",
      "|Kumar        |Marketing |NJ   |91000 |50 |21000|\n",
      "+-------------+----------+-----+------+---+-----+\n",
      "\n"
     ]
    },
    {
     "name": "stderr",
     "output_type": "stream",
     "text": [
      "23/05/14 20:17:52 WARN SparkSession: Using an existing Spark session; only runtime SQL configurations will take effect.\n"
     ]
    }
   ],
   "source": [
    "from pyspark.sql import SparkSession\n",
    "from IPython.core.interactiveshell import InteractiveShell\n",
    "\n",
    "InteractiveShell.ast_node_interactivity = \"all\"\n",
    "\n",
    "spark = SparkSession.builder.appName(\"lecture6\").getOrCreate()\n",
    "\n",
    "sc = spark.sparkContext\n",
    "\n",
    "# 原始数据\n",
    "simpleData = [\n",
    "    (\"James\", \"Sales\", \"NY\", 90000, 34, 10000),\n",
    "    (\"Michael\", \"Sales\", \"NV\", 86000, 56, 20000),\n",
    "    (\"Robert\", \"Sales\", \"CA\", 81000, 30, 23000),\n",
    "    (\"Maria\", \"Finance\", \"CA\", 90000, 24, 23000),\n",
    "    (\"Raman\", \"Finance\", \"DE\", 99000, 40, 24000),\n",
    "    (\"Scott\", \"Finance\", \"NY\", 83000, 36, 19000),\n",
    "    (\"Jen\", \"Finance\", \"NY\", 79000, 53, 15000),\n",
    "    (\"Jeff\", \"Marketing\", \"NV\", 80000, 25, 18000),\n",
    "    (\"Kumar\", \"Marketing\", \"NJ\", 91000, 50, 21000),\n",
    "]\n",
    "\n",
    "# 数据表头\n",
    "schema = [\"employee_name\", \"department\", \"state\", \"salary\", \"age\", \"bonus\"]\n",
    "# 从原始数据和表头创建DataFrame\n",
    "df = spark.createDataFrame(data=simpleData, schema=schema)\n",
    "# 打印DataFrame的schema\n",
    "df.printSchema()\n",
    "df.show(truncate=False)"
   ]
  },
  {
   "cell_type": "code",
   "execution_count": 49,
   "metadata": {},
   "outputs": [
    {
     "name": "stdout",
     "output_type": "stream",
     "text": [
      "+-----+----------+\n",
      "|state|sum_salary|\n",
      "+-----+----------+\n",
      "|   NY|    252000|\n",
      "|   CA|    171000|\n",
      "|   NV|    166000|\n",
      "+-----+----------+\n",
      "\n"
     ]
    }
   ],
   "source": [
    "from pyspark.sql.functions import sum, col, desc\n",
    "\n",
    "# 按照州分组，计算每个州的总工资，过滤掉总工资小于100000的部门，按照总工资降序排序\n",
    "df.groupBy(\"state\").agg(sum(\"salary\").alias(\"sum_salary\")).filter(\n",
    "    col(\"sum_salary\") > 100000\n",
    ").sort(desc(\"sum_salary\")).show()"
   ]
  },
  {
   "cell_type": "code",
   "execution_count": 48,
   "metadata": {},
   "outputs": [
    {
     "name": "stdout",
     "output_type": "stream",
     "text": [
      "+-----+----------+\n",
      "|state|sum_salary|\n",
      "+-----+----------+\n",
      "|   NY|    252000|\n",
      "|   CA|    171000|\n",
      "|   NV|    166000|\n",
      "+-----+----------+\n",
      "\n"
     ]
    }
   ],
   "source": [
    "# 使用SQL语句实现同样的功能\n",
    "df.createOrReplaceTempView(\"EMP\")\n",
    "spark.sql(\n",
    "    \"select state, sum(salary) as sum_salary from EMP \"\n",
    "    + \"group by state having sum_salary > 100000 \"\n",
    "    + \"order by sum_salary desc\"\n",
    ").show()"
   ]
  },
  {
   "cell_type": "code",
   "execution_count": 16,
   "metadata": {},
   "outputs": [
    {
     "name": "stdout",
     "output_type": "stream",
     "text": [
      "+-----+-----------+\n",
      "|state|sum(salary)|\n",
      "+-----+-----------+\n",
      "|   NY|     252000|\n",
      "|   NV|     166000|\n",
      "|   CA|     171000|\n",
      "|   DE|      99000|\n",
      "|   NJ|      91000|\n",
      "+-----+-----------+\n",
      "\n"
     ]
    }
   ],
   "source": [
    "# 拆解\n",
    "df.groupBy(\"state\").sum(\"salary\").show()"
   ]
  },
  {
   "cell_type": "code",
   "execution_count": 18,
   "metadata": {},
   "outputs": [
    {
     "name": "stdout",
     "output_type": "stream",
     "text": [
      "+-----+----------+\n",
      "|state|sum_salary|\n",
      "+-----+----------+\n",
      "|   NY|    252000|\n",
      "|   NV|    166000|\n",
      "|   CA|    171000|\n",
      "|   DE|     99000|\n",
      "|   NJ|     91000|\n",
      "+-----+----------+\n",
      "\n"
     ]
    }
   ],
   "source": [
    "dfGroup = df.groupBy(\"state\").agg(sum(\"salary\").alias(\"sum_salary\"))\n",
    "dfGroup.show()"
   ]
  },
  {
   "cell_type": "code",
   "execution_count": 19,
   "metadata": {},
   "outputs": [
    {
     "name": "stdout",
     "output_type": "stream",
     "text": [
      "+-----+----------+\n",
      "|state|sum_salary|\n",
      "+-----+----------+\n",
      "|   NY|    252000|\n",
      "|   NV|    166000|\n",
      "|   CA|    171000|\n",
      "+-----+----------+\n",
      "\n"
     ]
    }
   ],
   "source": [
    "dfFilter = dfGroup.filter(dfGroup.sum_salary > 100000)\n",
    "dfFilter.show()"
   ]
  },
  {
   "cell_type": "code",
   "execution_count": 22,
   "metadata": {},
   "outputs": [
    {
     "name": "stdout",
     "output_type": "stream",
     "text": [
      "+-----+----------+\n",
      "|state|sum_salary|\n",
      "+-----+----------+\n",
      "|   NY|    252000|\n",
      "|   CA|    171000|\n",
      "|   NV|    166000|\n",
      "+-----+----------+\n",
      "\n"
     ]
    }
   ],
   "source": [
    "dfFilter.sort(desc(\"sum_salary\")).show()"
   ]
  },
  {
   "cell_type": "code",
   "execution_count": 1,
   "metadata": {},
   "outputs": [
    {
     "ename": "FileExistsError",
     "evalue": "[Errno 17] File exists: 'outpput'",
     "output_type": "error",
     "traceback": [
      "\u001b[0;31m---------------------------------------------------------------------------\u001b[0m",
      "\u001b[0;31mFileExistsError\u001b[0m                           Traceback (most recent call last)",
      "Cell \u001b[0;32mIn[1], line 5\u001b[0m\n\u001b[1;32m      2\u001b[0m \u001b[39mfrom\u001b[39;00m \u001b[39mIPython\u001b[39;00m\u001b[39m.\u001b[39;00m\u001b[39mcore\u001b[39;00m\u001b[39m.\u001b[39;00m\u001b[39minteractiveshell\u001b[39;00m \u001b[39mimport\u001b[39;00m InteractiveShell\n\u001b[1;32m      3\u001b[0m InteractiveShell\u001b[39m.\u001b[39mast_node_interactivity \u001b[39m=\u001b[39m \u001b[39m\"\u001b[39m\u001b[39mall\u001b[39m\u001b[39m\"\u001b[39m\n\u001b[0;32m----> 5\u001b[0m os\u001b[39m.\u001b[39;49mmkdir(\u001b[39m'\u001b[39;49m\u001b[39moutpput\u001b[39;49m\u001b[39m'\u001b[39;49m, mode\u001b[39m=\u001b[39;49m\u001b[39m0o755\u001b[39;49m)\n",
      "\u001b[0;31mFileExistsError\u001b[0m: [Errno 17] File exists: 'outpput'"
     ]
    }
   ],
   "source": [
    "import os\n",
    "from IPython.core.interactiveshell import InteractiveShell\n",
    "\n",
    "InteractiveShell.ast_node_interactivity = \"all\"\n",
    "\n",
    "# 文件路径存在会报错， mode=0o755表示创建目录的权限为755 (rwxr-xr-x)\n",
    "os.mkdir(\"output\", mode=0o755)"
   ]
  },
  {
   "cell_type": "code",
   "execution_count": 10,
   "metadata": {},
   "outputs": [
    {
     "name": "stdout",
     "output_type": "stream",
     "text": [
      "./lecture6.ipynb\n",
      "./.DS_Store\n",
      "./~$数据分析第一期-6.pptx\n",
      "./数据分析第一期-6.pptx\n",
      "------\n",
      "./outpput\n",
      "./outpput/abc.txt\n",
      "------\n"
     ]
    }
   ],
   "source": [
    "for root, dirs, files in os.walk(\".\", topdown=True):\n",
    "    for name in files:\n",
    "        print(os.path.join(root, name))\n",
    "    print(\"------\")\n",
    "    for name in dirs:\n",
    "        print(os.path.join(root, name))"
   ]
  },
  {
   "cell_type": "code",
   "execution_count": 23,
   "metadata": {},
   "outputs": [
    {
     "data": {
      "text/plain": [
       "\"['a', 'b', 'c', 'd']\""
      ]
     },
     "execution_count": 23,
     "metadata": {},
     "output_type": "execute_result"
    }
   ],
   "source": [
    "a = [\"a\", \"b\", \"c\", \"d\"]\n",
    "str(a)"
   ]
  },
  {
   "cell_type": "code",
   "execution_count": 57,
   "metadata": {},
   "outputs": [
    {
     "data": {
      "text/plain": [
       "10"
      ]
     },
     "execution_count": 57,
     "metadata": {},
     "output_type": "execute_result"
    },
    {
     "data": {
      "text/plain": [
       "map"
      ]
     },
     "execution_count": 57,
     "metadata": {},
     "output_type": "execute_result"
    }
   ],
   "source": [
    "from functools import reduce\n",
    "\n",
    "\n",
    "a = [1, 2, 3, 4]\n",
    "reduce(lambda x, y: x + y, a)\n",
    "\n",
    "type(map(lambda x: x + 1, a))"
   ]
  },
  {
   "cell_type": "code",
   "execution_count": 56,
   "metadata": {},
   "outputs": [
    {
     "name": "stdout",
     "output_type": "stream",
     "text": [
      "[2, 3, 4, 5]\n",
      "2\n",
      "3\n",
      "4\n",
      "5\n",
      "2\n",
      "3\n",
      "4\n",
      "5\n"
     ]
    }
   ],
   "source": [
    "# map 只能用一次\n",
    "a = map(lambda x: x + 1, a)\n",
    "print(a)\n",
    "for v in a:\n",
    "    print(v)\n",
    "\n",
    "for v in a:\n",
    "    print(v)"
   ]
  },
  {
   "cell_type": "code",
   "execution_count": 66,
   "metadata": {},
   "outputs": [
    {
     "name": "stdout",
     "output_type": "stream",
     "text": [
      "1\n",
      "2\n",
      "3\n",
      "4\n",
      "error happened \n"
     ]
    }
   ],
   "source": [
    "a = [1, 2, 3, 4]\n",
    "a = iter(a)\n",
    "\n",
    "while True:\n",
    "    try:\n",
    "        print(next(a))\n",
    "    except StopIteration as e:\n",
    "        print(f'error happened {e}')\n",
    "        break"
   ]
  },
  {
   "cell_type": "code",
   "execution_count": 35,
   "metadata": {},
   "outputs": [
    {
     "name": "stdout",
     "output_type": "stream",
     "text": [
      "1\n",
      "1\n",
      "2\n",
      "3\n",
      "5\n",
      "8\n"
     ]
    }
   ],
   "source": [
    "def fib(count):\n",
    "    m = 1\n",
    "    n = 1\n",
    "    a = 0\n",
    "    ret = []\n",
    "    while a < count:\n",
    "        ret.append(n)\n",
    "        n, m = m, m + n\n",
    "        a += 1\n",
    "    return ret\n",
    "\n",
    "\n",
    "for item in fib(6):\n",
    "    print(item)"
   ]
  },
  {
   "cell_type": "code",
   "execution_count": 37,
   "metadata": {},
   "outputs": [
    {
     "name": "stdout",
     "output_type": "stream",
     "text": [
      "1\n",
      "1\n",
      "2\n",
      "3\n",
      "5\n",
      "8\n"
     ]
    }
   ],
   "source": [
    "# 使用 yield 实现斐波那契数列\n",
    "def fib2(count):\n",
    "    m = 1\n",
    "    n = 1\n",
    "    a = 0\n",
    "    while a < count:\n",
    "        yield n\n",
    "        n, m = m, m + n\n",
    "        a += 1\n",
    "\n",
    "\n",
    "fib2 = fib2(6)\n",
    "while True:\n",
    "    try:\n",
    "        print(next(fib2))\n",
    "    except StopIteration:\n",
    "        break"
   ]
  },
  {
   "cell_type": "code",
   "execution_count": 46,
   "metadata": {},
   "outputs": [
    {
     "ename": "FileExistsError",
     "evalue": "[Errno 17] File exists: 'output'",
     "output_type": "error",
     "traceback": [
      "\u001b[0;31m---------------------------------------------------------------------------\u001b[0m",
      "\u001b[0;31mFileExistsError\u001b[0m                           Traceback (most recent call last)",
      "Cell \u001b[0;32mIn[46], line 3\u001b[0m\n\u001b[1;32m      1\u001b[0m \u001b[39mtry\u001b[39;00m:\n\u001b[1;32m      2\u001b[0m     \u001b[39m# int(\"a\")\u001b[39;00m\n\u001b[0;32m----> 3\u001b[0m     os\u001b[39m.\u001b[39;49mmkdir(\u001b[39m'\u001b[39;49m\u001b[39moutput\u001b[39;49m\u001b[39m'\u001b[39;49m)\n\u001b[1;32m      4\u001b[0m \u001b[39mexcept\u001b[39;00m \u001b[39mValueError\u001b[39;00m \u001b[39mas\u001b[39;00m e:\n\u001b[1;32m      5\u001b[0m     \u001b[39mprint\u001b[39m(e)\n",
      "\u001b[0;31mFileExistsError\u001b[0m: [Errno 17] File exists: 'output'"
     ]
    }
   ],
   "source": [
    "# try except 处理异常\n",
    "try:\n",
    "    # int(\"a\")\n",
    "    os.mkdir('output')\n",
    "except ValueError as e:\n",
    "    print(e)\n",
    "else:\n",
    "    print(\"no error\")\n",
    "\n",
    "print(\"end\")"
   ]
  },
  {
   "cell_type": "code",
   "execution_count": 74,
   "metadata": {},
   "outputs": [],
   "source": [
    "# 读写文件\n",
    "f = open('test.txt', 'a')\n",
    "f.writelines(['hello world\\n', 'hello python\\n'])\n",
    "f.close()"
   ]
  },
  {
   "cell_type": "code",
   "execution_count": 78,
   "metadata": {},
   "outputs": [
    {
     "name": "stdout",
     "output_type": "stream",
     "text": [
      "hello world\n",
      "hello python\n",
      "hello world\n",
      "hello python\n"
     ]
    }
   ],
   "source": [
    "f = open('test.txt', 'r')\n",
    "for line in f:\n",
    "    print(line.strip())\n",
    "f.close()"
   ]
  },
  {
   "cell_type": "code",
   "execution_count": null,
   "metadata": {},
   "outputs": [],
   "source": [
    "f = open('test.txt', 'a')\n",
    "f.write('hello world\\n')\n",
    "f.flush() # 将缓存中的数据写入文件，而不是等到文件关闭时才写入\n",
    "f.close()"
   ]
  }
 ],
 "metadata": {
  "kernelspec": {
   "display_name": "course",
   "language": "python",
   "name": "python3"
  },
  "language_info": {
   "codemirror_mode": {
    "name": "ipython",
    "version": 3
   },
   "file_extension": ".py",
   "mimetype": "text/x-python",
   "name": "python",
   "nbconvert_exporter": "python",
   "pygments_lexer": "ipython3",
   "version": "3.10.11"
  },
  "orig_nbformat": 4
 },
 "nbformat": 4,
 "nbformat_minor": 2
}
