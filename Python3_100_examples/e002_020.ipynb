{
 "cells": [
  {
   "cell_type": "code",
   "execution_count": 1,
   "metadata": {},
   "outputs": [
    {
     "data": {
      "text/plain": [
       "'The bonus issued by the subject enterprise is based on the profit commission. 10% bonus if the profit (I) is less than or equal to $100,000; \\nIf the profit is more than 100,000 yuan and less than 200,000 yuan, 10% commission will be applied to the part less than 100,000 yuan, and 7.5% will be applied to the part more than 100,000 yuan. \\nWhen the amount is between 200,000 yuan and 400,000 yuan, 5% of the amount is higher than 200,000 yuan. When the amount is between 400,000 yuan and 600,000 yuan, 3% of the amount is higher than 400,000 yuan; \\nWhen it is between 600,000 yuan and 1 million yuan, the part higher than 600,000 yuan can be commissions by 1.5%. \\nWhen it is higher than 1 million yuan, the part more than 1 million yuan will be commissions by 1%. \\nInput the monthly profit I from the keyboard, and ask for the total amount of bonus?'"
      ]
     },
     "execution_count": 1,
     "metadata": {},
     "output_type": "execute_result"
    }
   ],
   "source": [
    "# 002  \n",
    "\n",
    "'''The bonus issued by the subject enterprise is based on the profit commission. 10% bonus if the profit (I) is less than or equal to $100,000; \n",
    "If the profit is more than 100,000 yuan and less than 200,000 yuan, 10% commission will be applied to the part less than 100,000 yuan, and 7.5% will be applied to the part more than 100,000 yuan. \n",
    "When the amount is between 200,000 yuan and 400,000 yuan, 5% of the amount is higher than 200,000 yuan. When the amount is between 400,000 yuan and 600,000 yuan, 3% of the amount is higher than 400,000 yuan; \n",
    "When it is between 600,000 yuan and 1 million yuan, the part higher than 600,000 yuan can be commissions by 1.5%. \n",
    "When it is higher than 1 million yuan, the part more than 1 million yuan will be commissions by 1%. \n",
    "Input the monthly profit I from the keyboard, and ask for the total amount of bonus?'''\n",
    "\n",
    "profit=int(input('Show me the money: '))\n"
   ]
  },
  {
   "cell_type": "code",
   "execution_count": null,
   "metadata": {},
   "outputs": [],
   "source": []
  }
 ],
 "metadata": {
  "kernelspec": {
   "display_name": "base",
   "language": "python",
   "name": "python3"
  },
  "language_info": {
   "codemirror_mode": {
    "name": "ipython",
    "version": 3
   },
   "file_extension": ".py",
   "mimetype": "text/x-python",
   "name": "python",
   "nbconvert_exporter": "python",
   "pygments_lexer": "ipython3",
   "version": "3.10.8"
  },
  "orig_nbformat": 4
 },
 "nbformat": 4,
 "nbformat_minor": 2
}
