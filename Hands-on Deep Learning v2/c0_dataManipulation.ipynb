{
 "cells": [
  {
   "cell_type": "code",
   "execution_count": 9,
   "metadata": {},
   "outputs": [
    {
     "name": "stdout",
     "output_type": "stream",
     "text": [
      "Collecting git+https://github.com/d2l-ai/d2l-zh@release\n",
      "  Cloning https://github.com/d2l-ai/d2l-zh (to revision release) to /private/var/folders/zg/1pb8nfp5473d_0jl7b7d8jyw0000gn/T/pip-req-build-qpfhhrq_\n",
      "  Running command git clone --filter=blob:none --quiet https://github.com/d2l-ai/d2l-zh /private/var/folders/zg/1pb8nfp5473d_0jl7b7d8jyw0000gn/T/pip-req-build-qpfhhrq_\n",
      "  warning: the following paths have collided (e.g. case-sensitive paths\n",
      "  on a case-insensitive filesystem) and only one from the same\n",
      "  colliding group is in the working tree:\n",
      "\n",
      "    'img/Marginal.svg'\n",
      "    'img/marginal.svg'\n",
      "    'img/Neuron.svg'\n",
      "    'img/neuron.svg'\n",
      "  Running command git checkout -b release --track origin/release\n",
      "  Switched to a new branch 'release'\n",
      "  branch 'release' set up to track 'origin/release'.\n",
      "  Resolved https://github.com/d2l-ai/d2l-zh to commit 843d3d41dca48d8df65f4b324dd171d8bfe9c067\n",
      "  Running command git submodule update --init --recursive -q\n",
      "  Preparing metadata (setup.py) ... \u001b[?25ldone\n",
      "\u001b[?25hCollecting jupyter==1.0.0 (from d2l==2.0.0)\n",
      "  Using cached jupyter-1.0.0-py2.py3-none-any.whl (2.7 kB)\n",
      "Collecting numpy==1.21.5 (from d2l==2.0.0)\n",
      "  Downloading numpy-1.21.5-cp310-cp310-macosx_11_0_arm64.whl (12.4 MB)\n",
      "\u001b[2K     \u001b[90m━━━━━━━━━━━━━━━━━━━━━━━━━━━━━━━━━━━━━━━━\u001b[0m \u001b[32m12.4/12.4 MB\u001b[0m \u001b[31m4.9 MB/s\u001b[0m eta \u001b[36m0:00:00\u001b[0m00:01\u001b[0m00:01\u001b[0m\n",
      "\u001b[?25hCollecting matplotlib==3.5.1 (from d2l==2.0.0)\n",
      "  Downloading matplotlib-3.5.1-cp310-cp310-macosx_11_0_arm64.whl (7.2 MB)\n",
      "\u001b[2K     \u001b[90m━━━━━━━━━━━━━━━━━━━━━━━━━━━━━━━━━━━━━━━━\u001b[0m \u001b[32m7.2/7.2 MB\u001b[0m \u001b[31m3.5 MB/s\u001b[0m eta \u001b[36m0:00:00\u001b[0m00:01\u001b[0m00:01\u001b[0m\n",
      "\u001b[?25hCollecting requests==2.25.1 (from d2l==2.0.0)\n",
      "  Downloading requests-2.25.1-py2.py3-none-any.whl (61 kB)\n",
      "\u001b[2K     \u001b[90m━━━━━━━━━━━━━━━━━━━━━━━━━━━━━━━━━━━━━━━━\u001b[0m \u001b[32m61.2/61.2 kB\u001b[0m \u001b[31m5.3 MB/s\u001b[0m eta \u001b[36m0:00:00\u001b[0m\n",
      "\u001b[?25hCollecting pandas==1.2.4 (from d2l==2.0.0)\n",
      "  Downloading pandas-1.2.4.tar.gz (5.5 MB)\n",
      "\u001b[2K     \u001b[90m━━━━━━━━━━━━━━━━━━━━━━━━━━━━━━━━━━━━━━━━\u001b[0m \u001b[32m5.5/5.5 MB\u001b[0m \u001b[31m8.4 MB/s\u001b[0m eta \u001b[36m0:00:00\u001b[0m00:01\u001b[0m00:01\u001b[0m\n",
      "\u001b[?25h  Installing build dependencies ... \u001b[?25ldone\n",
      "\u001b[?25h  Getting requirements to build wheel ... \u001b[?25ldone\n",
      "\u001b[?25h  Preparing metadata (pyproject.toml) ... \u001b[?25ldone\n",
      "\u001b[?25hRequirement already satisfied: notebook in /Users/mikkel/anaconda3/lib/python3.10/site-packages (from jupyter==1.0.0->d2l==2.0.0) (6.5.2)\n",
      "Requirement already satisfied: qtconsole in /Users/mikkel/anaconda3/lib/python3.10/site-packages (from jupyter==1.0.0->d2l==2.0.0) (5.4.0)\n",
      "Collecting jupyter-console (from jupyter==1.0.0->d2l==2.0.0)\n",
      "  Using cached jupyter_console-6.6.3-py3-none-any.whl (24 kB)\n",
      "Requirement already satisfied: nbconvert in /Users/mikkel/anaconda3/lib/python3.10/site-packages (from jupyter==1.0.0->d2l==2.0.0) (6.5.4)\n",
      "Requirement already satisfied: ipykernel in /Users/mikkel/anaconda3/lib/python3.10/site-packages (from jupyter==1.0.0->d2l==2.0.0) (6.19.2)\n",
      "Collecting ipywidgets (from jupyter==1.0.0->d2l==2.0.0)\n",
      "  Obtaining dependency information for ipywidgets from https://files.pythonhosted.org/packages/4a/0e/57ed498fafbc60419a9332d872e929879ceba2d73cb11d284d7112472b3e/ipywidgets-8.1.1-py3-none-any.whl.metadata\n",
      "  Downloading ipywidgets-8.1.1-py3-none-any.whl.metadata (2.4 kB)\n",
      "Requirement already satisfied: cycler>=0.10 in /Users/mikkel/anaconda3/lib/python3.10/site-packages (from matplotlib==3.5.1->d2l==2.0.0) (0.11.0)\n",
      "Requirement already satisfied: fonttools>=4.22.0 in /Users/mikkel/anaconda3/lib/python3.10/site-packages (from matplotlib==3.5.1->d2l==2.0.0) (4.25.0)\n",
      "Requirement already satisfied: kiwisolver>=1.0.1 in /Users/mikkel/anaconda3/lib/python3.10/site-packages (from matplotlib==3.5.1->d2l==2.0.0) (1.4.4)\n",
      "Requirement already satisfied: packaging>=20.0 in /Users/mikkel/anaconda3/lib/python3.10/site-packages (from matplotlib==3.5.1->d2l==2.0.0) (23.0)\n",
      "Requirement already satisfied: pillow>=6.2.0 in /Users/mikkel/anaconda3/lib/python3.10/site-packages (from matplotlib==3.5.1->d2l==2.0.0) (10.0.1)\n",
      "Requirement already satisfied: pyparsing>=2.2.1 in /Users/mikkel/anaconda3/lib/python3.10/site-packages (from matplotlib==3.5.1->d2l==2.0.0) (3.0.9)\n",
      "Requirement already satisfied: python-dateutil>=2.7 in /Users/mikkel/anaconda3/lib/python3.10/site-packages (from matplotlib==3.5.1->d2l==2.0.0) (2.8.2)\n",
      "Requirement already satisfied: pytz>=2017.3 in /Users/mikkel/anaconda3/lib/python3.10/site-packages (from pandas==1.2.4->d2l==2.0.0) (2022.7)\n",
      "Requirement already satisfied: chardet<5,>=3.0.2 in /Users/mikkel/anaconda3/lib/python3.10/site-packages (from requests==2.25.1->d2l==2.0.0) (3.0.4)\n",
      "Requirement already satisfied: idna<3,>=2.5 in /Users/mikkel/anaconda3/lib/python3.10/site-packages (from requests==2.25.1->d2l==2.0.0) (2.8)\n",
      "Requirement already satisfied: urllib3<1.27,>=1.21.1 in /Users/mikkel/anaconda3/lib/python3.10/site-packages (from requests==2.25.1->d2l==2.0.0) (1.24.3)\n",
      "Requirement already satisfied: certifi>=2017.4.17 in /Users/mikkel/anaconda3/lib/python3.10/site-packages (from requests==2.25.1->d2l==2.0.0) (2022.12.7)\n",
      "Requirement already satisfied: six>=1.5 in /Users/mikkel/anaconda3/lib/python3.10/site-packages (from python-dateutil>=2.7->matplotlib==3.5.1->d2l==2.0.0) (1.12.0)\n",
      "Requirement already satisfied: appnope in /Users/mikkel/anaconda3/lib/python3.10/site-packages (from ipykernel->jupyter==1.0.0->d2l==2.0.0) (0.1.2)\n",
      "Requirement already satisfied: comm>=0.1.1 in /Users/mikkel/anaconda3/lib/python3.10/site-packages (from ipykernel->jupyter==1.0.0->d2l==2.0.0) (0.1.2)\n",
      "Requirement already satisfied: debugpy>=1.0 in /Users/mikkel/anaconda3/lib/python3.10/site-packages (from ipykernel->jupyter==1.0.0->d2l==2.0.0) (1.5.1)\n",
      "Requirement already satisfied: ipython>=7.23.1 in /Users/mikkel/anaconda3/lib/python3.10/site-packages (from ipykernel->jupyter==1.0.0->d2l==2.0.0) (8.3.0)\n",
      "Requirement already satisfied: jupyter-client>=6.1.12 in /Users/mikkel/anaconda3/lib/python3.10/site-packages (from ipykernel->jupyter==1.0.0->d2l==2.0.0) (7.3.4)\n",
      "Requirement already satisfied: matplotlib-inline>=0.1 in /Users/mikkel/anaconda3/lib/python3.10/site-packages (from ipykernel->jupyter==1.0.0->d2l==2.0.0) (0.1.6)\n",
      "Requirement already satisfied: nest-asyncio in /Users/mikkel/anaconda3/lib/python3.10/site-packages (from ipykernel->jupyter==1.0.0->d2l==2.0.0) (1.5.6)\n",
      "Requirement already satisfied: psutil in /Users/mikkel/anaconda3/lib/python3.10/site-packages (from ipykernel->jupyter==1.0.0->d2l==2.0.0) (5.9.0)\n",
      "Requirement already satisfied: pyzmq>=17 in /Users/mikkel/anaconda3/lib/python3.10/site-packages (from ipykernel->jupyter==1.0.0->d2l==2.0.0) (23.2.0)\n",
      "Requirement already satisfied: tornado>=6.1 in /Users/mikkel/anaconda3/lib/python3.10/site-packages (from ipykernel->jupyter==1.0.0->d2l==2.0.0) (6.3.1)\n",
      "Requirement already satisfied: traitlets>=5.4.0 in /Users/mikkel/anaconda3/lib/python3.10/site-packages (from ipykernel->jupyter==1.0.0->d2l==2.0.0) (5.7.1)\n",
      "Collecting comm>=0.1.1 (from ipykernel->jupyter==1.0.0->d2l==2.0.0)\n",
      "  Obtaining dependency information for comm>=0.1.1 from https://files.pythonhosted.org/packages/fe/47/0133ac1b7dc476ed77710715e98077119b3d9bae56b13f6f9055e7da1c53/comm-0.1.4-py3-none-any.whl.metadata\n",
      "  Downloading comm-0.1.4-py3-none-any.whl.metadata (4.2 kB)\n",
      "Collecting widgetsnbextension~=4.0.9 (from ipywidgets->jupyter==1.0.0->d2l==2.0.0)\n",
      "  Obtaining dependency information for widgetsnbextension~=4.0.9 from https://files.pythonhosted.org/packages/29/03/107d96077c4befed191f7ad1a12c7b52a8f9d2778a5836d59f9855c105f6/widgetsnbextension-4.0.9-py3-none-any.whl.metadata\n",
      "  Downloading widgetsnbextension-4.0.9-py3-none-any.whl.metadata (1.6 kB)\n",
      "Collecting jupyterlab-widgets~=3.0.9 (from ipywidgets->jupyter==1.0.0->d2l==2.0.0)\n",
      "  Obtaining dependency information for jupyterlab-widgets~=3.0.9 from https://files.pythonhosted.org/packages/e8/05/0ebab152288693b5ec7b339aab857362947031143b282853b4c2dd4b5b40/jupyterlab_widgets-3.0.9-py3-none-any.whl.metadata\n",
      "  Downloading jupyterlab_widgets-3.0.9-py3-none-any.whl.metadata (4.1 kB)\n",
      "Requirement already satisfied: jupyter-core!=5.0.*,>=4.12 in /Users/mikkel/anaconda3/lib/python3.10/site-packages (from jupyter-console->jupyter==1.0.0->d2l==2.0.0) (5.3.0)\n",
      "Requirement already satisfied: prompt-toolkit>=3.0.30 in /Users/mikkel/anaconda3/lib/python3.10/site-packages (from jupyter-console->jupyter==1.0.0->d2l==2.0.0) (3.0.38)\n",
      "Requirement already satisfied: pygments in /Users/mikkel/anaconda3/lib/python3.10/site-packages (from jupyter-console->jupyter==1.0.0->d2l==2.0.0) (2.11.2)\n",
      "Requirement already satisfied: lxml in /Users/mikkel/anaconda3/lib/python3.10/site-packages (from nbconvert->jupyter==1.0.0->d2l==2.0.0) (4.9.2)\n",
      "Requirement already satisfied: beautifulsoup4 in /Users/mikkel/anaconda3/lib/python3.10/site-packages (from nbconvert->jupyter==1.0.0->d2l==2.0.0) (4.12.2)\n",
      "Requirement already satisfied: bleach in /Users/mikkel/anaconda3/lib/python3.10/site-packages (from nbconvert->jupyter==1.0.0->d2l==2.0.0) (4.1.0)\n",
      "Requirement already satisfied: defusedxml in /Users/mikkel/anaconda3/lib/python3.10/site-packages (from nbconvert->jupyter==1.0.0->d2l==2.0.0) (0.7.1)\n",
      "Requirement already satisfied: entrypoints>=0.2.2 in /Users/mikkel/anaconda3/lib/python3.10/site-packages (from nbconvert->jupyter==1.0.0->d2l==2.0.0) (0.4)\n",
      "Requirement already satisfied: jinja2>=3.0 in /Users/mikkel/anaconda3/lib/python3.10/site-packages (from nbconvert->jupyter==1.0.0->d2l==2.0.0) (3.1.2)\n",
      "Requirement already satisfied: jupyterlab-pygments in /Users/mikkel/anaconda3/lib/python3.10/site-packages (from nbconvert->jupyter==1.0.0->d2l==2.0.0) (0.1.2)\n",
      "Requirement already satisfied: MarkupSafe>=2.0 in /Users/mikkel/anaconda3/lib/python3.10/site-packages (from nbconvert->jupyter==1.0.0->d2l==2.0.0) (2.1.1)\n",
      "Requirement already satisfied: mistune<2,>=0.8.1 in /Users/mikkel/anaconda3/lib/python3.10/site-packages (from nbconvert->jupyter==1.0.0->d2l==2.0.0) (0.8.4)\n",
      "Requirement already satisfied: nbclient>=0.5.0 in /Users/mikkel/anaconda3/lib/python3.10/site-packages (from nbconvert->jupyter==1.0.0->d2l==2.0.0) (0.5.13)\n",
      "Requirement already satisfied: nbformat>=5.1 in /Users/mikkel/anaconda3/lib/python3.10/site-packages (from nbconvert->jupyter==1.0.0->d2l==2.0.0) (5.7.0)\n",
      "Requirement already satisfied: pandocfilters>=1.4.1 in /Users/mikkel/anaconda3/lib/python3.10/site-packages (from nbconvert->jupyter==1.0.0->d2l==2.0.0) (1.5.0)\n",
      "Requirement already satisfied: tinycss2 in /Users/mikkel/anaconda3/lib/python3.10/site-packages (from nbconvert->jupyter==1.0.0->d2l==2.0.0) (1.2.1)\n",
      "Requirement already satisfied: argon2-cffi in /Users/mikkel/anaconda3/lib/python3.10/site-packages (from notebook->jupyter==1.0.0->d2l==2.0.0) (21.3.0)\n",
      "Requirement already satisfied: ipython-genutils in /Users/mikkel/anaconda3/lib/python3.10/site-packages (from notebook->jupyter==1.0.0->d2l==2.0.0) (0.2.0)\n",
      "Requirement already satisfied: Send2Trash>=1.8.0 in /Users/mikkel/anaconda3/lib/python3.10/site-packages (from notebook->jupyter==1.0.0->d2l==2.0.0) (1.8.0)\n",
      "Requirement already satisfied: terminado>=0.8.3 in /Users/mikkel/anaconda3/lib/python3.10/site-packages (from notebook->jupyter==1.0.0->d2l==2.0.0) (0.13.1)\n",
      "Requirement already satisfied: prometheus-client in /Users/mikkel/anaconda3/lib/python3.10/site-packages (from notebook->jupyter==1.0.0->d2l==2.0.0) (0.14.1)\n",
      "Requirement already satisfied: nbclassic>=0.4.7 in /Users/mikkel/anaconda3/lib/python3.10/site-packages (from notebook->jupyter==1.0.0->d2l==2.0.0) (0.5.2)\n",
      "Requirement already satisfied: qtpy>=2.0.1 in /Users/mikkel/anaconda3/lib/python3.10/site-packages (from qtconsole->jupyter==1.0.0->d2l==2.0.0) (2.2.0)\n",
      "Requirement already satisfied: backcall in /Users/mikkel/anaconda3/lib/python3.10/site-packages (from ipython>=7.23.1->ipykernel->jupyter==1.0.0->d2l==2.0.0) (0.2.0)\n",
      "Requirement already satisfied: decorator in /Users/mikkel/anaconda3/lib/python3.10/site-packages (from ipython>=7.23.1->ipykernel->jupyter==1.0.0->d2l==2.0.0) (5.1.1)\n",
      "Requirement already satisfied: jedi>=0.16 in /Users/mikkel/anaconda3/lib/python3.10/site-packages (from ipython>=7.23.1->ipykernel->jupyter==1.0.0->d2l==2.0.0) (0.18.1)\n",
      "Requirement already satisfied: pickleshare in /Users/mikkel/anaconda3/lib/python3.10/site-packages (from ipython>=7.23.1->ipykernel->jupyter==1.0.0->d2l==2.0.0) (0.7.5)\n",
      "Requirement already satisfied: setuptools>=18.5 in /Users/mikkel/anaconda3/lib/python3.10/site-packages (from ipython>=7.23.1->ipykernel->jupyter==1.0.0->d2l==2.0.0) (65.6.3)\n",
      "Requirement already satisfied: stack-data in /Users/mikkel/anaconda3/lib/python3.10/site-packages (from ipython>=7.23.1->ipykernel->jupyter==1.0.0->d2l==2.0.0) (0.2.0)\n",
      "Requirement already satisfied: pexpect>4.3 in /Users/mikkel/anaconda3/lib/python3.10/site-packages (from ipython>=7.23.1->ipykernel->jupyter==1.0.0->d2l==2.0.0) (4.8.0)\n",
      "Requirement already satisfied: platformdirs>=2.5 in /Users/mikkel/anaconda3/lib/python3.10/site-packages (from jupyter-core!=5.0.*,>=4.12->jupyter-console->jupyter==1.0.0->d2l==2.0.0) (2.5.2)\n",
      "Requirement already satisfied: jupyter-server>=1.8 in /Users/mikkel/anaconda3/lib/python3.10/site-packages (from nbclassic>=0.4.7->notebook->jupyter==1.0.0->d2l==2.0.0) (1.23.4)\n",
      "Requirement already satisfied: notebook-shim>=0.1.0 in /Users/mikkel/anaconda3/lib/python3.10/site-packages (from nbclassic>=0.4.7->notebook->jupyter==1.0.0->d2l==2.0.0) (0.2.2)\n",
      "Requirement already satisfied: fastjsonschema in /Users/mikkel/anaconda3/lib/python3.10/site-packages (from nbformat>=5.1->nbconvert->jupyter==1.0.0->d2l==2.0.0) (2.16.2)\n",
      "Requirement already satisfied: jsonschema>=2.6 in /Users/mikkel/anaconda3/lib/python3.10/site-packages (from nbformat>=5.1->nbconvert->jupyter==1.0.0->d2l==2.0.0) (4.17.3)\n",
      "Requirement already satisfied: wcwidth in /Users/mikkel/anaconda3/lib/python3.10/site-packages (from prompt-toolkit>=3.0.30->jupyter-console->jupyter==1.0.0->d2l==2.0.0) (0.2.5)\n",
      "Requirement already satisfied: ptyprocess in /Users/mikkel/anaconda3/lib/python3.10/site-packages (from terminado>=0.8.3->notebook->jupyter==1.0.0->d2l==2.0.0) (0.7.0)\n",
      "Requirement already satisfied: argon2-cffi-bindings in /Users/mikkel/anaconda3/lib/python3.10/site-packages (from argon2-cffi->notebook->jupyter==1.0.0->d2l==2.0.0) (21.2.0)\n",
      "Requirement already satisfied: soupsieve>1.2 in /Users/mikkel/anaconda3/lib/python3.10/site-packages (from beautifulsoup4->nbconvert->jupyter==1.0.0->d2l==2.0.0) (2.4)\n",
      "Requirement already satisfied: webencodings in /Users/mikkel/anaconda3/lib/python3.10/site-packages (from bleach->nbconvert->jupyter==1.0.0->d2l==2.0.0) (0.5.1)\n",
      "Requirement already satisfied: parso<0.9.0,>=0.8.0 in /Users/mikkel/anaconda3/lib/python3.10/site-packages (from jedi>=0.16->ipython>=7.23.1->ipykernel->jupyter==1.0.0->d2l==2.0.0) (0.8.3)\n",
      "Requirement already satisfied: attrs>=17.4.0 in /Users/mikkel/anaconda3/lib/python3.10/site-packages (from jsonschema>=2.6->nbformat>=5.1->nbconvert->jupyter==1.0.0->d2l==2.0.0) (22.1.0)\n",
      "Requirement already satisfied: pyrsistent!=0.17.0,!=0.17.1,!=0.17.2,>=0.14.0 in /Users/mikkel/anaconda3/lib/python3.10/site-packages (from jsonschema>=2.6->nbformat>=5.1->nbconvert->jupyter==1.0.0->d2l==2.0.0) (0.18.0)\n",
      "Requirement already satisfied: anyio<4,>=3.1.0 in /Users/mikkel/anaconda3/lib/python3.10/site-packages (from jupyter-server>=1.8->nbclassic>=0.4.7->notebook->jupyter==1.0.0->d2l==2.0.0) (3.5.0)\n",
      "Requirement already satisfied: websocket-client in /Users/mikkel/anaconda3/lib/python3.10/site-packages (from jupyter-server>=1.8->nbclassic>=0.4.7->notebook->jupyter==1.0.0->d2l==2.0.0) (0.58.0)\n",
      "Requirement already satisfied: cffi>=1.0.1 in /Users/mikkel/anaconda3/lib/python3.10/site-packages (from argon2-cffi-bindings->argon2-cffi->notebook->jupyter==1.0.0->d2l==2.0.0) (1.15.1)\n",
      "Requirement already satisfied: executing in /Users/mikkel/anaconda3/lib/python3.10/site-packages (from stack-data->ipython>=7.23.1->ipykernel->jupyter==1.0.0->d2l==2.0.0) (0.8.3)\n",
      "Requirement already satisfied: asttokens in /Users/mikkel/anaconda3/lib/python3.10/site-packages (from stack-data->ipython>=7.23.1->ipykernel->jupyter==1.0.0->d2l==2.0.0) (2.0.5)\n",
      "Requirement already satisfied: pure-eval in /Users/mikkel/anaconda3/lib/python3.10/site-packages (from stack-data->ipython>=7.23.1->ipykernel->jupyter==1.0.0->d2l==2.0.0) (0.2.2)\n",
      "Requirement already satisfied: sniffio>=1.1 in /Users/mikkel/anaconda3/lib/python3.10/site-packages (from anyio<4,>=3.1.0->jupyter-server>=1.8->nbclassic>=0.4.7->notebook->jupyter==1.0.0->d2l==2.0.0) (1.2.0)\n",
      "Requirement already satisfied: pycparser in /Users/mikkel/anaconda3/lib/python3.10/site-packages (from cffi>=1.0.1->argon2-cffi-bindings->argon2-cffi->notebook->jupyter==1.0.0->d2l==2.0.0) (2.21)\n",
      "Downloading ipywidgets-8.1.1-py3-none-any.whl (139 kB)\n",
      "\u001b[2K   \u001b[90m━━━━━━━━━━━━━━━━━━━━━━━━━━━━━━━━━━━━━━━━\u001b[0m \u001b[32m139.4/139.4 kB\u001b[0m \u001b[31m6.6 MB/s\u001b[0m eta \u001b[36m0:00:00\u001b[0m\n",
      "\u001b[?25hUsing cached comm-0.1.4-py3-none-any.whl (6.6 kB)\n",
      "Downloading jupyterlab_widgets-3.0.9-py3-none-any.whl (214 kB)\n",
      "\u001b[2K   \u001b[90m━━━━━━━━━━━━━━━━━━━━━━━━━━━━━━━━━━━━━━━━\u001b[0m \u001b[32m214.9/214.9 kB\u001b[0m \u001b[31m7.3 MB/s\u001b[0m eta \u001b[36m0:00:00\u001b[0m\n",
      "\u001b[?25hDownloading widgetsnbextension-4.0.9-py3-none-any.whl (2.3 MB)\n",
      "\u001b[2K   \u001b[90m━━━━━━━━━━━━━━━━━━━━━━━━━━━━━━━━━━━━━━━━\u001b[0m \u001b[32m2.3/2.3 MB\u001b[0m \u001b[31m8.4 MB/s\u001b[0m eta \u001b[36m0:00:00\u001b[0m00:01\u001b[0m00:01\u001b[0m\n",
      "\u001b[?25hBuilding wheels for collected packages: d2l, pandas\n",
      "  Building wheel for d2l (setup.py) ... \u001b[?25ldone\n",
      "\u001b[?25h  Created wheel for d2l: filename=d2l-2.0.0-py3-none-any.whl size=110806 sha256=97d7daaf0e91f942daec676f32a9a28099dd9e10915c085cc9e0c536d8c4aad1\n",
      "  Stored in directory: /private/var/folders/zg/1pb8nfp5473d_0jl7b7d8jyw0000gn/T/pip-ephem-wheel-cache-gwmkxf7r/wheels/06/3d/8a/4fd8610f1a5a25b8f37ceb120e161c4c789b515a22cfce411a\n",
      "  Building wheel for pandas (pyproject.toml) ... \u001b[?25ldone\n",
      "\u001b[?25h  Created wheel for pandas: filename=pandas-1.2.4-cp310-cp310-macosx_11_0_arm64.whl size=9037064 sha256=e4e9e83c4fcf661c992ffb2c9c01e3d00f0f30d86b5cf3424b8cc9abfd5fea32\n",
      "  Stored in directory: /Users/mikkel/Library/Caches/pip/wheels/1b/10/28/2a37b26cf3e4dc59d82430e3812f8571518d2c1d81c288af98\n",
      "Successfully built d2l pandas\n",
      "Installing collected packages: widgetsnbextension, requests, numpy, jupyterlab-widgets, comm, pandas, matplotlib, ipywidgets, jupyter-console, jupyter, d2l\n",
      "  Attempting uninstall: requests\n",
      "    Found existing installation: requests 2.21.0\n",
      "    Uninstalling requests-2.21.0:\n",
      "      Successfully uninstalled requests-2.21.0\n",
      "  Attempting uninstall: numpy\n",
      "    Found existing installation: numpy 1.23.5\n",
      "    Uninstalling numpy-1.23.5:\n",
      "      Successfully uninstalled numpy-1.23.5\n",
      "  Attempting uninstall: comm\n",
      "    Found existing installation: comm 0.1.2\n",
      "    Uninstalling comm-0.1.2:\n",
      "      Successfully uninstalled comm-0.1.2\n",
      "  Attempting uninstall: pandas\n",
      "    Found existing installation: pandas 1.5.3\n",
      "    Uninstalling pandas-1.5.3:\n",
      "      Successfully uninstalled pandas-1.5.3\n",
      "  Attempting uninstall: matplotlib\n",
      "    Found existing installation: matplotlib 3.7.0\n",
      "    Uninstalling matplotlib-3.7.0:\n",
      "      Successfully uninstalled matplotlib-3.7.0\n",
      "\u001b[31mERROR: pip's dependency resolver does not currently take into account all the packages that are installed. This behaviour is the source of the following dependency conflicts.\n",
      "conda-repo-cli 1.0.41 requires requests_mock, which is not installed.\n",
      "gensim 4.3.0 requires FuzzyTM>=0.4.0, which is not installed.\n",
      "spyder 5.4.1 requires pyqt5<5.16, which is not installed.\n",
      "spyder 5.4.1 requires pyqtwebengine<5.16, which is not installed.\n",
      "anaconda-client 1.11.2 requires six>=1.15.0, but you have six 1.12.0 which is incompatible.\n",
      "anaconda-client 1.11.2 requires urllib3>=1.26.4, but you have urllib3 1.24.3 which is incompatible.\n",
      "conda-repo-cli 1.0.41 requires clyent==1.2.1, but you have clyent 1.2.2 which is incompatible.\n",
      "conda-repo-cli 1.0.41 requires nbformat==5.4.0, but you have nbformat 5.7.0 which is incompatible.\n",
      "conda-repo-cli 1.0.41 requires requests==2.28.1, but you have requests 2.25.1 which is incompatible.\n",
      "google-api-core 2.11.0 requires google-auth<3.0dev,>=2.14.1, but you have google-auth 1.4.2 which is incompatible.\n",
      "google-api-python-client 2.86.0 requires google-auth<3.0.0dev,>=1.19.0, but you have google-auth 1.4.2 which is incompatible.\n",
      "jupyterlab-server 2.19.0 requires requests>=2.28, but you have requests 2.25.1 which is incompatible.\n",
      "torchvision 0.15.1 requires torch==2.0.0, but you have torch 1.13.1 which is incompatible.\n",
      "xarray 2022.11.0 requires pandas>=1.3, but you have pandas 1.2.4 which is incompatible.\u001b[0m\u001b[31m\n",
      "\u001b[0mSuccessfully installed comm-0.1.4 d2l-2.0.0 ipywidgets-8.1.1 jupyter-1.0.0 jupyter-console-6.6.3 jupyterlab-widgets-3.0.9 matplotlib-3.5.1 numpy-1.21.5 pandas-1.2.4 requests-2.25.1 widgetsnbextension-4.0.9\n",
      "\n",
      "\u001b[1m[\u001b[0m\u001b[34;49mnotice\u001b[0m\u001b[1;39;49m]\u001b[0m\u001b[39;49m A new release of pip is available: \u001b[0m\u001b[31;49m23.2.1\u001b[0m\u001b[39;49m -> \u001b[0m\u001b[32;49m23.3\u001b[0m\n",
      "\u001b[1m[\u001b[0m\u001b[34;49mnotice\u001b[0m\u001b[1;39;49m]\u001b[0m\u001b[39;49m To update, run: \u001b[0m\u001b[32;49mpip install --upgrade pip\u001b[0m\n"
     ]
    }
   ],
   "source": [
    "#!pip install git+https://github.com/d2l-ai/d2l-zh@release"
   ]
  },
  {
   "cell_type": "code",
   "execution_count": 4,
   "metadata": {},
   "outputs": [],
   "source": [
    "import torch"
   ]
  },
  {
   "cell_type": "code",
   "execution_count": 5,
   "metadata": {},
   "outputs": [
    {
     "data": {
      "text/plain": [
       "tensor([ 0,  1,  2,  3,  4,  5,  6,  7,  8,  9, 10, 11])"
      ]
     },
     "execution_count": 5,
     "metadata": {},
     "output_type": "execute_result"
    }
   ],
   "source": [
    "x = torch.arange(12)\n",
    "x"
   ]
  },
  {
   "cell_type": "code",
   "execution_count": 6,
   "metadata": {},
   "outputs": [
    {
     "data": {
      "text/plain": [
       "torch.Size([12])"
      ]
     },
     "execution_count": 6,
     "metadata": {},
     "output_type": "execute_result"
    }
   ],
   "source": [
    "x.size()"
   ]
  },
  {
   "cell_type": "code",
   "execution_count": 7,
   "metadata": {},
   "outputs": [
    {
     "data": {
      "text/plain": [
       "torch.Size([12])"
      ]
     },
     "execution_count": 7,
     "metadata": {},
     "output_type": "execute_result"
    }
   ],
   "source": [
    "torch.Size([12])"
   ]
  },
  {
   "cell_type": "code",
   "execution_count": 8,
   "metadata": {},
   "outputs": [
    {
     "data": {
      "text/plain": [
       "tensor([[ 0,  1,  2,  3],\n",
       "        [ 4,  5,  6,  7],\n",
       "        [ 8,  9, 10, 11]])"
      ]
     },
     "execution_count": 8,
     "metadata": {},
     "output_type": "execute_result"
    }
   ],
   "source": [
    "X = x.reshape(3,4)\n",
    "X"
   ]
  },
  {
   "cell_type": "code",
   "execution_count": 9,
   "metadata": {},
   "outputs": [
    {
     "data": {
      "text/plain": [
       "tensor([[1., 1., 1.],\n",
       "        [1., 1., 1.]])"
      ]
     },
     "execution_count": 9,
     "metadata": {},
     "output_type": "execute_result"
    }
   ],
   "source": [
    "torch.zeros((2,4))\n",
    "torch.ones((2,3))"
   ]
  },
  {
   "cell_type": "code",
   "execution_count": 10,
   "metadata": {},
   "outputs": [
    {
     "data": {
      "text/plain": [
       "tensor([[2, 3, 4],\n",
       "        [4, 5, 6]])"
      ]
     },
     "execution_count": 10,
     "metadata": {},
     "output_type": "execute_result"
    }
   ],
   "source": [
    "y = torch.tensor([[2,3,4],[4,5,6]])\n",
    "y"
   ]
  },
  {
   "cell_type": "code",
   "execution_count": 11,
   "metadata": {},
   "outputs": [
    {
     "data": {
      "text/plain": [
       "torch.Size([2, 3])"
      ]
     },
     "execution_count": 11,
     "metadata": {},
     "output_type": "execute_result"
    }
   ],
   "source": [
    "y.size()"
   ]
  },
  {
   "cell_type": "code",
   "execution_count": 19,
   "metadata": {},
   "outputs": [
    {
     "name": "stdout",
     "output_type": "stream",
     "text": [
      "tensor([[ 0.,  1.,  2.,  3.],\n",
      "        [ 4.,  5.,  6.,  7.],\n",
      "        [ 8.,  9., 10., 11.],\n",
      "        [ 2.,  1.,  4.,  3.],\n",
      "        [ 1.,  2.,  3.,  4.],\n",
      "        [ 4.,  3.,  2.,  1.]]) \n",
      "\n",
      "tensor([[ 0.,  1.,  2.,  3.,  2.,  1.,  4.,  3.],\n",
      "        [ 4.,  5.,  6.,  7.,  1.,  2.,  3.,  4.],\n",
      "        [ 8.,  9., 10., 11.,  4.,  3.,  2.,  1.]])\n"
     ]
    }
   ],
   "source": [
    "X = torch.arange(12,dtype=torch.float32).reshape((3,4)) \n",
    "Y = torch.tensor([[2.0,1,4,3],[1,2,3,4],[4,3,2,1]])\n",
    "\n",
    "Z = torch.cat((X,Y),dim=0)\n",
    "U = torch.cat((X,Y),dim=1)\n",
    "print(Z,\"\\n\")\n",
    "print(U)"
   ]
  },
  {
   "cell_type": "code",
   "execution_count": 23,
   "metadata": {},
   "outputs": [
    {
     "data": {
      "text/plain": [
       "tensor([[False,  True, False,  True],\n",
       "        [False, False, False, False],\n",
       "        [False, False, False, False]])"
      ]
     },
     "execution_count": 23,
     "metadata": {},
     "output_type": "execute_result"
    }
   ],
   "source": [
    "# 逻辑判断\n",
    "X == Y"
   ]
  },
  {
   "cell_type": "code",
   "execution_count": 24,
   "metadata": {},
   "outputs": [
    {
     "data": {
      "text/plain": [
       "tensor(66.)"
      ]
     },
     "execution_count": 24,
     "metadata": {},
     "output_type": "execute_result"
    }
   ],
   "source": [
    "# 求和\n",
    "X.sum()"
   ]
  },
  {
   "cell_type": "code",
   "execution_count": 25,
   "metadata": {},
   "outputs": [
    {
     "data": {
      "text/plain": [
       "tensor([[0, 1],\n",
       "        [1, 2],\n",
       "        [2, 3]])"
      ]
     },
     "execution_count": 25,
     "metadata": {},
     "output_type": "execute_result"
    }
   ],
   "source": [
    "# 广播机制\n",
    "\n",
    "a = torch.arange(3).reshape(3,1)\n",
    "b = torch.arange(2).reshape(1,2)\n",
    "\n",
    "a+b"
   ]
  },
  {
   "cell_type": "code",
   "execution_count": 40,
   "metadata": {},
   "outputs": [
    {
     "data": {
      "text/plain": [
       "tensor([[ 0.,  1.,  2.,  3.],\n",
       "        [ 4.,  5.,  6.,  7.],\n",
       "        [ 8.,  9., 10., 11.]])"
      ]
     },
     "execution_count": 40,
     "metadata": {},
     "output_type": "execute_result"
    }
   ],
   "source": [
    "X"
   ]
  },
  {
   "cell_type": "code",
   "execution_count": 47,
   "metadata": {},
   "outputs": [
    {
     "data": {
      "text/plain": [
       "tensor([8.])"
      ]
     },
     "execution_count": 47,
     "metadata": {},
     "output_type": "execute_result"
    }
   ],
   "source": [
    "X[-1,:1]"
   ]
  },
  {
   "cell_type": "code",
   "execution_count": 48,
   "metadata": {},
   "outputs": [
    {
     "data": {
      "text/plain": [
       "tensor([[ 4.,  5.,  6.,  7.],\n",
       "        [ 8.,  9., 10., 11.]])"
      ]
     },
     "execution_count": 48,
     "metadata": {},
     "output_type": "execute_result"
    }
   ],
   "source": [
    "X[1:3]"
   ]
  },
  {
   "cell_type": "code",
   "execution_count": 53,
   "metadata": {},
   "outputs": [
    {
     "data": {
      "text/plain": [
       "tensor([[ 0.,  1.,  2.,  3.],\n",
       "        [ 4.,  5., 12.,  7.],\n",
       "        [ 8.,  9., 10., 11.]])"
      ]
     },
     "execution_count": 53,
     "metadata": {},
     "output_type": "execute_result"
    }
   ],
   "source": [
    "# 写值\n",
    "X[1,2] = 12\n",
    "X"
   ]
  },
  {
   "cell_type": "code",
   "execution_count": 54,
   "metadata": {},
   "outputs": [
    {
     "data": {
      "text/plain": [
       "4977546944"
      ]
     },
     "execution_count": 54,
     "metadata": {},
     "output_type": "execute_result"
    }
   ],
   "source": [
    "# 运行操作导致重新分配内存\n",
    "id(X)"
   ]
  },
  {
   "cell_type": "code",
   "execution_count": 56,
   "metadata": {},
   "outputs": [
    {
     "data": {
      "text/plain": [
       "4978609824"
      ]
     },
     "execution_count": 56,
     "metadata": {},
     "output_type": "execute_result"
    }
   ],
   "source": [
    "X = Y+X\n",
    "id(X)"
   ]
  },
  {
   "cell_type": "code",
   "execution_count": 58,
   "metadata": {},
   "outputs": [
    {
     "data": {
      "text/plain": [
       "4977571168"
      ]
     },
     "execution_count": 58,
     "metadata": {},
     "output_type": "execute_result"
    }
   ],
   "source": [
    "# 执行原地操作，不影响地址\n",
    "Z = torch.zeros_like(Y)\n",
    "id(Z)"
   ]
  },
  {
   "cell_type": "code",
   "execution_count": 59,
   "metadata": {},
   "outputs": [
    {
     "data": {
      "text/plain": [
       "4977571168"
      ]
     },
     "execution_count": 59,
     "metadata": {},
     "output_type": "execute_result"
    }
   ],
   "source": [
    "Z[:]=X+Y\n",
    "id(Z)"
   ]
  },
  {
   "cell_type": "code",
   "execution_count": 64,
   "metadata": {},
   "outputs": [
    {
     "data": {
      "text/plain": [
       "array([[ 6.,  4., 14., 12.],\n",
       "       [ 7., 11., 21., 19.],\n",
       "       [20., 18., 16., 14.]], dtype=float32)"
      ]
     },
     "execution_count": 64,
     "metadata": {},
     "output_type": "execute_result"
    }
   ],
   "source": [
    "A = X.numpy()\n",
    "A"
   ]
  },
  {
   "cell_type": "code",
   "execution_count": 66,
   "metadata": {},
   "outputs": [
    {
     "data": {
      "text/plain": [
       "tensor([[ 6.,  4., 14., 12.],\n",
       "        [ 7., 11., 21., 19.],\n",
       "        [20., 18., 16., 14.]])"
      ]
     },
     "execution_count": 66,
     "metadata": {},
     "output_type": "execute_result"
    }
   ],
   "source": [
    "B = torch.tensor(A)\n",
    "B"
   ]
  },
  {
   "cell_type": "code",
   "execution_count": 67,
   "metadata": {},
   "outputs": [
    {
     "data": {
      "text/plain": [
       "(numpy.ndarray, torch.Tensor)"
      ]
     },
     "execution_count": 67,
     "metadata": {},
     "output_type": "execute_result"
    }
   ],
   "source": [
    "type(A),type(B)"
   ]
  },
  {
   "cell_type": "code",
   "execution_count": 70,
   "metadata": {},
   "outputs": [
    {
     "data": {
      "text/plain": [
       "3.5"
      ]
     },
     "execution_count": 70,
     "metadata": {},
     "output_type": "execute_result"
    }
   ],
   "source": [
    "C = torch.tensor([3.5])\n",
    "C.item()"
   ]
  },
  {
   "cell_type": "code",
   "execution_count": null,
   "metadata": {},
   "outputs": [],
   "source": []
  }
 ],
 "metadata": {
  "kernelspec": {
   "display_name": "torch1.13",
   "language": "python",
   "name": "python3"
  },
  "language_info": {
   "codemirror_mode": {
    "name": "ipython",
    "version": 3
   },
   "file_extension": ".py",
   "mimetype": "text/x-python",
   "name": "python",
   "nbconvert_exporter": "python",
   "pygments_lexer": "ipython3",
   "version": "3.10.8"
  }
 },
 "nbformat": 4,
 "nbformat_minor": 2
}
